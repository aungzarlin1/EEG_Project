{
 "cells": [
  {
   "cell_type": "markdown",
   "metadata": {
    "id": "mZ6s_hlHkVO4"
   },
   "source": [
    "# Uploading data"
   ]
  },
  {
   "cell_type": "code",
   "execution_count": 1,
   "metadata": {
    "id": "uVi-5xHljUHw"
   },
   "outputs": [],
   "source": [
    "import pandas as pd\n",
    "import numpy as np\n",
    "import matplotlib.pyplot as plt\n",
    "import os\n",
    "import mne\n",
    "from mne import io\n",
    "from mne import read_epochs"
   ]
  },
  {
   "cell_type": "markdown",
   "metadata": {},
   "source": [
    "#### File nomenclature\n",
    "import _epo.fif files\n",
    "    \n",
    "    format: \"g\"+ group_number + player_type + subject +'_epo.fif'\n",
    "    player_type: [\"solo\", \"dual\"]\n",
    "    subject: [1, 2]"
   ]
  },
  {
   "cell_type": "code",
   "execution_count": 2,
   "metadata": {},
   "outputs": [
    {
     "name": "stdout",
     "output_type": "stream",
     "text": [
      "\n",
      "========= epoch_1 ==========\n",
      "Reading ./data/g1dual1_epo.fif ...\n",
      "    Found the data of interest:\n",
      "        t =     -99.61 ...     699.22 ms\n",
      "        0 CTF compensation matrices available\n",
      "Not setting metadata\n",
      "Not setting metadata\n",
      "636 matching events found\n",
      "No baseline correction applied\n",
      "0 projection items activated\n",
      "\n",
      "========= epoch_2 ==========\n",
      "Reading ./data/g1dual2_epo.fif ...\n",
      "    Found the data of interest:\n",
      "        t =     -99.61 ...     699.22 ms\n",
      "        0 CTF compensation matrices available\n",
      "Not setting metadata\n",
      "Not setting metadata\n",
      "636 matching events found\n",
      "No baseline correction applied\n",
      "0 projection items activated\n"
     ]
    }
   ],
   "source": [
    "url = './data/'\n",
    "\n",
    "print(\"\\n========= epoch_1 ==========\")\n",
    "\n",
    "# epoch_1\n",
    "file_name_1 = 'g1dual1_epo.fif' # eg. 'g1dual1_epo.fif'\n",
    "epoch_1 = read_epochs(url + file_name_1)\n",
    "print(\"\\n========= epoch_2 ==========\")\n",
    "\n",
    "# epoch_2\n",
    "file_name_2 = 'g1dual2_epo.fif' # eg. 'g1dual2_epo.fif'\n",
    "epoch_2 = read_epochs(url + file_name_2)"
   ]
  },
  {
   "cell_type": "code",
   "execution_count": 3,
   "metadata": {
    "id": "u59ar_ey9Kwv"
   },
   "outputs": [
    {
     "name": "stdout",
     "output_type": "stream",
     "text": [
      "(636, 32, 410)\n",
      "(636,)\n"
     ]
    }
   ],
   "source": [
    "X_train = epoch_1.get_data()\n",
    "y_train = np.array(epoch_1.events[:, -1], dtype = 'float32')\n",
    "\n",
    "print(X_train.shape)\n",
    "print(y_train.shape)\n",
    "# print(y)"
   ]
  },
  {
   "cell_type": "code",
   "execution_count": 4,
   "metadata": {
    "scrolled": true
   },
   "outputs": [
    {
     "name": "stdout",
     "output_type": "stream",
     "text": [
      "(636, 32, 410)\n",
      "(636,)\n"
     ]
    }
   ],
   "source": [
    "X_test = epoch_2.get_data()\n",
    "y_test = np.array(epoch_2.events[:, -1], dtype = 'float32')\n",
    "\n",
    "print(X_test.shape)\n",
    "print(y_test.shape)\n",
    "# print(y)"
   ]
  },
  {
   "cell_type": "markdown",
   "metadata": {},
   "source": [
    "#### Creating Tensors"
   ]
  },
  {
   "cell_type": "code",
   "execution_count": 5,
   "metadata": {
    "id": "3epcatwdBASI"
   },
   "outputs": [],
   "source": [
    "import torch\n",
    "import torch.nn as nn\n",
    "from torch.utils.data import TensorDataset\n",
    "from torch.utils.data import DataLoader"
   ]
  },
  {
   "cell_type": "code",
   "execution_count": 6,
   "metadata": {
    "id": "S9aG8ZJrG3X3"
   },
   "outputs": [
    {
     "name": "stdout",
     "output_type": "stream",
     "text": [
      "cuda\n"
     ]
    }
   ],
   "source": [
    "device = torch.device('cuda' if torch.cuda.is_available() else 'cpu')\n",
    "print(device)"
   ]
  },
  {
   "cell_type": "code",
   "execution_count": 7,
   "metadata": {},
   "outputs": [
    {
     "name": "stdout",
     "output_type": "stream",
     "text": [
      "float32\n"
     ]
    }
   ],
   "source": [
    "# X = np.array(X)\n",
    "# y = np.array(y)\n",
    "print(y_test.dtype)"
   ]
  },
  {
   "cell_type": "code",
   "execution_count": 8,
   "metadata": {
    "id": "Ha40ZutqBfm8"
   },
   "outputs": [
    {
     "name": "stdout",
     "output_type": "stream",
     "text": [
      "torch.Size([636, 32, 410])\n",
      "torch.Size([636, 1])\n",
      "torch.Size([636, 32, 410])\n",
      "torch.Size([636, 1])\n"
     ]
    }
   ],
   "source": [
    "# X_train_ts = torch.Tensor(X_train)\n",
    "# y_train_ts = torch.Tensor(y_train)\n",
    "# y_train_ts = y_train_ts.unsqueeze(1)\n",
    "# X_test_ts = torch.Tensor(X_test)\n",
    "# y_test_ts = torch.Tensor(y_test)\n",
    "# y_test_ts = y_test_ts.unsqueeze(1)\n",
    "\n",
    "X = torch.Tensor(X_train)\n",
    "y = torch.Tensor(y_train)\n",
    "y = y-1\n",
    "y = y.unsqueeze(1)\n",
    "print(X.size())\n",
    "print(y.size())\n",
    "\n",
    "X_test = torch.Tensor(X_test)\n",
    "y_test = torch.Tensor(y_test)\n",
    "y_test = y_test-1\n",
    "y_test = y_test.unsqueeze(1)\n",
    "print(X_test.size())\n",
    "print(y_test.size())"
   ]
  },
  {
   "cell_type": "code",
   "execution_count": 9,
   "metadata": {},
   "outputs": [],
   "source": [
    "train_ds = TensorDataset(X, y)\n",
    "\n",
    "train_size = int(X.size()[0] * 0.8)\n",
    "valid_size = X.size()[0] - train_size\n",
    "\n",
    "train_set, valid_set = torch.utils.data.random_split(train_ds, [train_size, valid_size])\n",
    "\n",
    "BATCH_SIZE= 64\n",
    "\n",
    "train_iterator = torch.utils.data.DataLoader(dataset=train_set, batch_size=BATCH_SIZE, shuffle=True)\n",
    "valid_iterator = torch.utils.data.DataLoader(dataset=valid_set, batch_size=BATCH_SIZE, shuffle=False)"
   ]
  },
  {
   "cell_type": "code",
   "execution_count": 10,
   "metadata": {},
   "outputs": [],
   "source": [
    "test_ds = TensorDataset(X_test, y_test)\n",
    "test_dl = DataLoader(test_ds, batch_size=BATCH_SIZE, shuffle = False)"
   ]
  },
  {
   "cell_type": "markdown",
   "metadata": {},
   "source": [
    "#### Model"
   ]
  },
  {
   "cell_type": "code",
   "execution_count": 11,
   "metadata": {
    "id": "IJf6nVpSDkFL"
   },
   "outputs": [],
   "source": [
    "class CNN(nn.Module):\n",
    "    def __init__(self,num_classes, input_shape):\n",
    "        super(CNN, self).__init__()\n",
    "        self.input_dim = input_shape[1]\n",
    "        self.input_samples = input_shape[2]\n",
    "        \n",
    "        #Layer 0\n",
    "        self.layer0 = nn.BatchNorm1d(32)\n",
    "        \n",
    "        #Layer 1\n",
    "        self.layer1 = nn.Sequential(nn.BatchNorm1d(32),\n",
    "                    nn.Conv1d(in_channels= 32, out_channels= 16, kernel_size = 1, stride=1),\n",
    "                    nn.ReLU())\n",
    "        \n",
    "        #Layer2\n",
    "        self.layer2 = nn.Sequential(nn.BatchNorm1d(16),\n",
    "                    nn.Conv1d(in_channels= 16, out_channels= 16 , kernel_size = 20, stride = 20),\n",
    "                    nn.ReLU())\n",
    "        \n",
    "        #Layer3\n",
    "        self.fc1 = nn.Sequential(\n",
    "                    nn.Flatten(),\n",
    "                    nn.Linear( 16 * round(self.input_samples/ 20), 128),\n",
    "                    nn.Tanh(),\n",
    "                    nn.Dropout(p=0.8))\n",
    "        #Layer4\n",
    "        self.fc2 = nn.Sequential(\n",
    "                    nn.Linear(128 , 128),\n",
    "                    nn.Tanh(),\n",
    "                    nn.Dropout(p=0.8))\n",
    "        \n",
    "        #Layer5\n",
    "        self.fc3 = nn.Sequential(nn.Linear(128 , 1),nn.Sigmoid())\n",
    "    \n",
    "    \n",
    "    def forward(self, x):\n",
    "        x = self.layer0(x)\n",
    "#         print(\"l0 out\",x.size())\n",
    "        x = self.layer1(x)\n",
    "#         print(\"l1 out\",x.size())\n",
    "        x = self.layer2(x)\n",
    "#         print(\"l2 out\",x.size())\n",
    "        x = self.fc1(x)\n",
    "#         print(\"l3 out\",x.size())\n",
    "        x = self.fc2(x)\n",
    "#         print(\"l4 out\",x.size())\n",
    "        x = self.fc3(x)\n",
    "#         print(\"l5 out\",x.size())\n",
    "        return x"
   ]
  },
  {
   "cell_type": "code",
   "execution_count": 12,
   "metadata": {
    "id": "X5pOr6gwGPQG"
   },
   "outputs": [
    {
     "name": "stdout",
     "output_type": "stream",
     "text": [
      "(636, 32, 410)\n"
     ]
    }
   ],
   "source": [
    "learning_rate=0.001\n",
    "epoches = 50\n",
    "input_shape = X_train.shape\n",
    "print(input_shape)"
   ]
  },
  {
   "cell_type": "code",
   "execution_count": 13,
   "metadata": {
    "id": "ief2zi7OFT9K"
   },
   "outputs": [],
   "source": [
    "model = CNN(num_classes=2, input_shape = input_shape).to(device)\n",
    "criterion = nn.BCELoss()\n",
    "optimizer = torch.optim.Adam(model.parameters(), lr=learning_rate)"
   ]
  },
  {
   "cell_type": "code",
   "execution_count": 14,
   "metadata": {
    "id": "uS-hWU4zGhX4"
   },
   "outputs": [
    {
     "name": "stdout",
     "output_type": "stream",
     "text": [
      "CNN(\n",
      "  (layer0): BatchNorm1d(32, eps=1e-05, momentum=0.1, affine=True, track_running_stats=True)\n",
      "  (layer1): Sequential(\n",
      "    (0): BatchNorm1d(32, eps=1e-05, momentum=0.1, affine=True, track_running_stats=True)\n",
      "    (1): Conv1d(32, 16, kernel_size=(1,), stride=(1,))\n",
      "    (2): ReLU()\n",
      "  )\n",
      "  (layer2): Sequential(\n",
      "    (0): BatchNorm1d(16, eps=1e-05, momentum=0.1, affine=True, track_running_stats=True)\n",
      "    (1): Conv1d(16, 16, kernel_size=(20,), stride=(20,))\n",
      "    (2): ReLU()\n",
      "  )\n",
      "  (fc1): Sequential(\n",
      "    (0): Flatten(start_dim=1, end_dim=-1)\n",
      "    (1): Linear(in_features=320, out_features=128, bias=True)\n",
      "    (2): Tanh()\n",
      "    (3): Dropout(p=0.8, inplace=False)\n",
      "  )\n",
      "  (fc2): Sequential(\n",
      "    (0): Linear(in_features=128, out_features=128, bias=True)\n",
      "    (1): Tanh()\n",
      "    (2): Dropout(p=0.8, inplace=False)\n",
      "  )\n",
      "  (fc3): Sequential(\n",
      "    (0): Linear(in_features=128, out_features=1, bias=True)\n",
      "    (1): Sigmoid()\n",
      "  )\n",
      ")\n"
     ]
    }
   ],
   "source": [
    "print(model)"
   ]
  },
  {
   "cell_type": "code",
   "execution_count": 15,
   "metadata": {},
   "outputs": [],
   "source": [
    "def train(model, iterator, optimizer, criterion):\n",
    "    total = 0\n",
    "    correct = 0\n",
    "    epoch_loss = 0\n",
    "    epoch_acc = 0\n",
    "    \n",
    "    model.train()\n",
    "    \n",
    "    for batch, labels in iterator:\n",
    "        \n",
    "        #Move tensors to the configured device\n",
    "        batch = batch.to(device)\n",
    "        labels = labels.to(device)\n",
    "        \n",
    "        #Forward pass\n",
    "        outputs = model(batch.float())\n",
    "        loss = criterion(outputs, labels)\n",
    "        \n",
    "        # Backward and optimize\n",
    "        optimizer.zero_grad()\n",
    "        loss.backward()\n",
    "        optimizer.step()\n",
    "                \n",
    "        #check accuracy\n",
    "        predictions = model(batch.float())\n",
    "       # print(\"predictions\",predictions)\n",
    "        #print(\"labels\", labels)\n",
    "        predicted = predictions.round()\n",
    "#         print(\"train predicted\",predicted)\n",
    "#         _, predicted = torch.max(predictions.data, 1) \n",
    "        #returns max value, indices\n",
    "#         predicted = predicted.unsqueeze(1)\n",
    "        total += labels.size(0)  #keep track of total\n",
    "#         correct += (predicted == labels).sum().item()  #.item() give the raw number\n",
    "        correct += (predicted == labels).sum().item()\n",
    "#         print(\"label\",labels.size())\n",
    "#         print(\"predicted\", predicted.size())\n",
    "#         print(\"correct\", correct)\n",
    "#         print(\"total\", total)\n",
    "#         print(\"acc\", correct/ total)\n",
    "        acc = 100 * (correct / total)\n",
    "                \n",
    "        epoch_loss += loss.item()\n",
    "        epoch_acc = acc\n",
    "        \n",
    "    return epoch_loss / len(iterator), epoch_acc, predicted\n",
    "\n",
    "def evaluate(model, iterator, criterion):\n",
    "    \n",
    "    total = 0\n",
    "    correct = 0\n",
    "    epoch_loss = 0\n",
    "    epoch_acc = 0\n",
    "    \n",
    "    model.eval()\n",
    "    \n",
    "    with torch.no_grad():\n",
    "    \n",
    "        for batch, labels in iterator:\n",
    "            \n",
    "            #Move tensors to the configured device\n",
    "            batch = batch.to(device)\n",
    "            labels = labels.to(device)\n",
    "\n",
    "            predictions = model(batch.float())\n",
    "            loss = criterion(predictions, labels)\n",
    "\n",
    "#             _, predicted = torch.max(predictions.data, 1)  #returns max value, indices\n",
    "            predicted = predictions.round()\n",
    "#             print(\"test predicted\",predicted)\n",
    "#             predicted = predicted.unsqueeze(1)\n",
    "            \n",
    "            total += labels.size(0)  #keep track of total\n",
    "            correct += (predicted == labels).sum().item()  #.item() give the raw number\n",
    "            acc = 100 * (correct / total)\n",
    "            \n",
    "            epoch_loss += loss.item()\n",
    "            epoch_acc += acc\n",
    "        \n",
    "    return epoch_loss / len(iterator), epoch_acc / len(iterator) , predicted"
   ]
  },
  {
   "cell_type": "code",
   "execution_count": 16,
   "metadata": {},
   "outputs": [],
   "source": [
    "import time\n",
    "\n",
    "def epoch_time(start_time, end_time):\n",
    "    elapsed_time = end_time - start_time\n",
    "    elapsed_mins = int(elapsed_time / 60)\n",
    "    elapsed_secs = int(elapsed_time - (elapsed_mins * 60))\n",
    "    return elapsed_mins, elapsed_secs"
   ]
  },
  {
   "cell_type": "markdown",
   "metadata": {},
   "source": [
    "#### Train, validation"
   ]
  },
  {
   "cell_type": "code",
   "execution_count": 17,
   "metadata": {},
   "outputs": [
    {
     "name": "stdout",
     "output_type": "stream",
     "text": [
      "Epoch: 01 | Epoch Time: 0m 3s\n",
      "\tTrain Loss: 0.613 | Train Acc: 73.03%\n",
      "\t Val. Loss: 0.600 |  Val. Acc: 83.20%\n",
      "Epoch: 02 | Epoch Time: 0m 0s\n",
      "\tTrain Loss: 0.496 | Train Acc: 83.27%\n",
      "\t Val. Loss: 0.462 |  Val. Acc: 83.20%\n",
      "Epoch: 03 | Epoch Time: 0m 0s\n",
      "\tTrain Loss: 0.485 | Train Acc: 82.68%\n",
      "\t Val. Loss: 0.450 |  Val. Acc: 83.20%\n",
      "Epoch: 04 | Epoch Time: 0m 0s\n",
      "\tTrain Loss: 0.465 | Train Acc: 83.07%\n",
      "\t Val. Loss: 0.447 |  Val. Acc: 83.20%\n",
      "Epoch: 05 | Epoch Time: 0m 0s\n",
      "\tTrain Loss: 0.464 | Train Acc: 83.27%\n",
      "\t Val. Loss: 0.449 |  Val. Acc: 83.20%\n",
      "Epoch: 06 | Epoch Time: 0m 0s\n",
      "\tTrain Loss: 0.447 | Train Acc: 83.07%\n",
      "\t Val. Loss: 0.441 |  Val. Acc: 83.20%\n",
      "Epoch: 07 | Epoch Time: 0m 0s\n",
      "\tTrain Loss: 0.426 | Train Acc: 83.66%\n",
      "\t Val. Loss: 0.415 |  Val. Acc: 83.20%\n",
      "Epoch: 08 | Epoch Time: 0m 0s\n",
      "\tTrain Loss: 0.384 | Train Acc: 84.25%\n",
      "\t Val. Loss: 0.352 |  Val. Acc: 86.33%\n",
      "Epoch: 09 | Epoch Time: 0m 0s\n",
      "\tTrain Loss: 0.345 | Train Acc: 87.20%\n",
      "\t Val. Loss: 0.284 |  Val. Acc: 87.50%\n",
      "Epoch: 10 | Epoch Time: 0m 0s\n",
      "\tTrain Loss: 0.287 | Train Acc: 89.17%\n",
      "\t Val. Loss: 0.260 |  Val. Acc: 88.28%\n",
      "Epoch: 11 | Epoch Time: 0m 0s\n",
      "\tTrain Loss: 0.234 | Train Acc: 91.54%\n",
      "\t Val. Loss: 0.179 |  Val. Acc: 94.14%\n",
      "Epoch: 12 | Epoch Time: 0m 0s\n",
      "\tTrain Loss: 0.185 | Train Acc: 92.32%\n",
      "\t Val. Loss: 0.208 |  Val. Acc: 92.58%\n"
     ]
    }
   ],
   "source": [
    "N_EPOCHS = 12\n",
    "\n",
    "best_valid_loss = float('inf')\n",
    "\n",
    "train_losses = []\n",
    "valid_losses = []\n",
    "\n",
    "train_accs = []\n",
    "valid_accs = []\n",
    "\n",
    "train_predicted_labels = []\n",
    "valid_predicted_labels = []\n",
    "\n",
    "train_true_labels = []\n",
    "valid_true_labels = []\n",
    "\n",
    "# for i, model in enumerate(models):\n",
    "#     print(f\"Training {type(model).__name__}\")\n",
    "    \n",
    "#     start_time = time.time()\n",
    "\n",
    "for epoch in range(N_EPOCHS):\n",
    "    start_time = time.time()\n",
    "\n",
    "    train_loss, train_acc, predicted_train = train(model, train_iterator, optimizer, criterion)\n",
    "    valid_loss, valid_acc, predicted_eval = evaluate(model, valid_iterator, criterion)\n",
    "\n",
    "    train_losses.append(train_loss); train_accs.append(train_acc); train_predicted_labels.append(predicted_train)\n",
    "    valid_losses.append(valid_loss); valid_accs.append(valid_acc); valid_predicted_labels.append(predicted_eval)\n",
    "\n",
    "    end_time = time.time()\n",
    "\n",
    "    epoch_mins, epoch_secs = epoch_time(start_time, end_time)\n",
    "\n",
    "    if (epoch+1) % 1 == 0:\n",
    "        print(f'Epoch: {epoch+1:02} | Epoch Time: {epoch_mins}m {epoch_secs}s')\n",
    "        print(f'\\tTrain Loss: {train_loss:.3f} | Train Acc: {train_acc:.2f}%')\n",
    "        print(f'\\t Val. Loss: {valid_loss:.3f} |  Val. Acc: {valid_acc:.2f}%')\n",
    "\n",
    "#         print(predicted_train)\n",
    "#         print(predicted_eval)\n",
    "\n",
    "    if valid_loss < best_valid_loss:\n",
    "        best_valid_loss = valid_loss\n",
    "#         print(\"Model:{} saved.\".format(type(model).__name__))\n",
    "#         torch.save(model.state_dict(), 'models/checkpoint.pth.tar')\n",
    "#         best_model_index = i"
   ]
  },
  {
   "cell_type": "code",
   "execution_count": 18,
   "metadata": {
    "scrolled": false
   },
   "outputs": [
    {
     "data": {
      "image/png": "[encoded data removed]",
      "text/plain": [
       "<Figure size 720x720 with 2 Axes>"
      ]
     },
     "metadata": {
      "needs_background": "light"
     },
     "output_type": "display_data"
    }
   ],
   "source": [
    "fig,ax = plt.subplots(2,1,sharex=True,figsize=(10,10))\n",
    "ax[0].plot(np.arange(N_EPOCHS),train_losses,label = \"train loss\")\n",
    "ax[0].plot(np.arange(N_EPOCHS),valid_losses, label = \"valid loss\")\n",
    "ax[1].plot(np.arange(N_EPOCHS),train_accs,label = \"train acc\")\n",
    "ax[1].plot(np.arange(N_EPOCHS),valid_accs,label = \"valid acc\")\n",
    "\n",
    "plt.subplots_adjust(hspace=0.03)\n",
    "ax[1].set_xlabel(\"Epochs\")\n",
    "ax[0].set_ylabel(\"Loss\")\n",
    "ax[1].set_ylabel(\"Accuracy\")\n",
    "ax[0].legend()\n",
    "ax[1].legend()\n",
    "ax[0].grid(True)\n",
    "ax[1].grid(True)\n",
    "plt.show()"
   ]
  },
  {
   "cell_type": "markdown",
   "metadata": {},
   "source": [
    "#### Test on different subject"
   ]
  },
  {
   "cell_type": "code",
   "execution_count": 19,
   "metadata": {},
   "outputs": [
    {
     "name": "stdout",
     "output_type": "stream",
     "text": [
      "\t Test. Loss: 0.632 |  Test. Acc: 84.66%\n"
     ]
    }
   ],
   "source": [
    "test_losses = []\n",
    "test_accs = []\n",
    "test_predicted_labels = []\n",
    "best_test_loss = float(\"inf\")\n",
    "\n",
    "# for epoch in range(N_EPOCHS):\n",
    "start_time = time.time()\n",
    "\n",
    "test_loss, test_acc, predicted_test_eval = evaluate(model, test_dl, criterion)\n",
    "\n",
    "test_losses.append(test_loss); test_accs.append(test_acc); test_predicted_labels.append(predicted_test_eval)\n",
    "\n",
    "end_time = time.time()\n",
    "\n",
    "epoch_mins, epoch_secs = epoch_time(start_time, end_time)\n",
    "\n",
    "# if (epoch+1) % 5 == 0:\n",
    "# print(f'Epoch: {epoch+1:02} | Epoch Time: {epoch_mins}m {epoch_secs}s')\n",
    "print(f'\\t Test. Loss: {test_loss:.3f} |  Test. Acc: {test_acc:.2f}%')\n",
    "\n",
    "#         print(predicted_train)\n",
    "#         print(predicted_eval)\n",
    "\n",
    "# if test_loss < best_test_loss:\n",
    "#     best_test_loss = test_loss\n",
    "#         print(\"Model:{} saved.\".format(type(model).__name__))\n",
    "#         torch.save(model.state_dict(), 'models/checkpoint.pth.tar')\n",
    "#         4best_model_index = i"
   ]
  },
  {
   "cell_type": "code",
   "execution_count": null,
   "metadata": {},
   "outputs": [],
   "source": []
  }
 ],
 "metadata": {
  "accelerator": "GPU",
  "colab": {
   "collapsed_sections": [],
   "name": "CNN.ipynb",
   "provenance": []
  },
  "kernelspec": {
   "display_name": "Python 3 (ipykernel)",
   "language": "python",
   "name": "python3"
  },
  "language_info": {
   "codemirror_mode": {
    "name": "ipython",
    "version": 3
   },
   "file_extension": ".py",
   "mimetype": "text/x-python",
   "name": "python",
   "nbconvert_exporter": "python",
   "pygments_lexer": "ipython3",
   "version": "3.9.1"
  }
 },
 "nbformat": 4,
 "nbformat_minor": 1
}
