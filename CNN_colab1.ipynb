{
 "cells": [
  {
   "cell_type": "markdown",
   "metadata": {
    "id": "mZ6s_hlHkVO4"
   },
   "source": [
    "# Uploading data"
   ]
  },
  {
   "cell_type": "code",
   "execution_count": 1,
   "metadata": {
    "id": "uVi-5xHljUHw"
   },
   "outputs": [],
   "source": [
    "import pandas as pd\n",
    "import numpy as np\n",
    "import matplotlib.pyplot as plt\n",
    "import mne\n",
    "from mne import create_info\n",
    "from mne.io import RawArray"
   ]
  },
  {
   "cell_type": "code",
   "execution_count": 2,
   "metadata": {
    "colab": {
     "base_uri": "https://localhost:8080/",
     "height": 35
    },
    "id": "TlA4wVnCloSj",
    "outputId": "17fd99b2-1a34-4763-c79d-d9c7a273be85"
   },
   "outputs": [
    {
     "data": {
      "text/plain": [
       "'D:\\\\Computer Programming (Python)\\\\Data_set_EEG'"
      ]
     },
     "execution_count": 2,
     "metadata": {},
     "output_type": "execute_result"
    }
   ],
   "source": [
    "pwd"
   ]
  },
  {
   "cell_type": "code",
   "execution_count": 3,
   "metadata": {
    "colab": {
     "base_uri": "https://localhost:8080/",
     "height": 387
    },
    "id": "gYIjD6AOmI55",
    "outputId": "9a00b189-523f-4c4b-9d4f-35df2acb24ec"
   },
   "outputs": [],
   "source": [
    "df1 = pd.read_csv('group_01_sujet_01.csv', delimiter = ',', dtype = 'float64')\n",
    "df2 = pd.read_csv('group_01.csv', delimiter = ',', dtype = 'float64')"
   ]
  },
  {
   "cell_type": "code",
   "execution_count": 4,
   "metadata": {
    "id": "5VK5ir-4m4_s"
   },
   "outputs": [],
   "source": [
    "header = pd.read_csv('Header.csv')"
   ]
  },
  {
   "cell_type": "code",
   "execution_count": 5,
   "metadata": {
    "id": "cQpCNeGUpmHE"
   },
   "outputs": [
    {
     "data": {
      "text/html": [
       "<div>\n",
       "<style scoped>\n",
       "    .dataframe tbody tr th:only-of-type {\n",
       "        vertical-align: middle;\n",
       "    }\n",
       "\n",
       "    .dataframe tbody tr th {\n",
       "        vertical-align: top;\n",
       "    }\n",
       "\n",
       "    .dataframe thead th {\n",
       "        text-align: right;\n",
       "    }\n",
       "</style>\n",
       "<table border=\"1\" class=\"dataframe\">\n",
       "  <thead>\n",
       "    <tr style=\"text-align: right;\">\n",
       "      <th></th>\n",
       "      <th>Time</th>\n",
       "      <th>FP1_1</th>\n",
       "      <th>FP2_1</th>\n",
       "      <th>AFZ_1</th>\n",
       "      <th>F7_1</th>\n",
       "      <th>F3_1</th>\n",
       "      <th>F4_1</th>\n",
       "      <th>F8_1</th>\n",
       "      <th>FC5_1</th>\n",
       "      <th>FC1_1</th>\n",
       "      <th>...</th>\n",
       "      <th>P8_2</th>\n",
       "      <th>PO7_2</th>\n",
       "      <th>O1_2</th>\n",
       "      <th>Oz_2</th>\n",
       "      <th>O2_2</th>\n",
       "      <th>PO8_2</th>\n",
       "      <th>PO9_2</th>\n",
       "      <th>PO10_2</th>\n",
       "      <th>Events</th>\n",
       "      <th>Target</th>\n",
       "    </tr>\n",
       "  </thead>\n",
       "  <tbody>\n",
       "    <tr>\n",
       "      <th>0</th>\n",
       "      <td>0.001953</td>\n",
       "      <td>46949.0</td>\n",
       "      <td>48729.0</td>\n",
       "      <td>59912.0</td>\n",
       "      <td>58426.0</td>\n",
       "      <td>55468.0</td>\n",
       "      <td>53324.0</td>\n",
       "      <td>44591.0</td>\n",
       "      <td>52014.0</td>\n",
       "      <td>59471.0</td>\n",
       "      <td>...</td>\n",
       "      <td>19458.0</td>\n",
       "      <td>24501.0</td>\n",
       "      <td>24401.0</td>\n",
       "      <td>17219.0</td>\n",
       "      <td>17435.0</td>\n",
       "      <td>-529.48</td>\n",
       "      <td>15742.0</td>\n",
       "      <td>5094.6</td>\n",
       "      <td>0.0</td>\n",
       "      <td>0.0</td>\n",
       "    </tr>\n",
       "    <tr>\n",
       "      <th>1</th>\n",
       "      <td>0.003906</td>\n",
       "      <td>46984.0</td>\n",
       "      <td>48765.0</td>\n",
       "      <td>59959.0</td>\n",
       "      <td>58477.0</td>\n",
       "      <td>55515.0</td>\n",
       "      <td>53376.0</td>\n",
       "      <td>44640.0</td>\n",
       "      <td>52050.0</td>\n",
       "      <td>59530.0</td>\n",
       "      <td>...</td>\n",
       "      <td>19453.0</td>\n",
       "      <td>24505.0</td>\n",
       "      <td>24383.0</td>\n",
       "      <td>17221.0</td>\n",
       "      <td>17426.0</td>\n",
       "      <td>-533.10</td>\n",
       "      <td>15733.0</td>\n",
       "      <td>4741.9</td>\n",
       "      <td>0.0</td>\n",
       "      <td>0.0</td>\n",
       "    </tr>\n",
       "    <tr>\n",
       "      <th>2</th>\n",
       "      <td>0.005859</td>\n",
       "      <td>46976.0</td>\n",
       "      <td>48722.0</td>\n",
       "      <td>59945.0</td>\n",
       "      <td>58446.0</td>\n",
       "      <td>55474.0</td>\n",
       "      <td>53327.0</td>\n",
       "      <td>44588.0</td>\n",
       "      <td>52011.0</td>\n",
       "      <td>59506.0</td>\n",
       "      <td>...</td>\n",
       "      <td>19464.0</td>\n",
       "      <td>24520.0</td>\n",
       "      <td>24407.0</td>\n",
       "      <td>17251.0</td>\n",
       "      <td>17442.0</td>\n",
       "      <td>-520.55</td>\n",
       "      <td>15737.0</td>\n",
       "      <td>4544.2</td>\n",
       "      <td>0.0</td>\n",
       "      <td>0.0</td>\n",
       "    </tr>\n",
       "    <tr>\n",
       "      <th>3</th>\n",
       "      <td>0.007812</td>\n",
       "      <td>46922.0</td>\n",
       "      <td>48621.0</td>\n",
       "      <td>59888.0</td>\n",
       "      <td>58360.0</td>\n",
       "      <td>55376.0</td>\n",
       "      <td>53224.0</td>\n",
       "      <td>44469.0</td>\n",
       "      <td>51923.0</td>\n",
       "      <td>59445.0</td>\n",
       "      <td>...</td>\n",
       "      <td>19443.0</td>\n",
       "      <td>24489.0</td>\n",
       "      <td>24352.0</td>\n",
       "      <td>17195.0</td>\n",
       "      <td>17409.0</td>\n",
       "      <td>-545.98</td>\n",
       "      <td>15716.0</td>\n",
       "      <td>4533.4</td>\n",
       "      <td>0.0</td>\n",
       "      <td>0.0</td>\n",
       "    </tr>\n",
       "    <tr>\n",
       "      <th>4</th>\n",
       "      <td>0.009766</td>\n",
       "      <td>46845.0</td>\n",
       "      <td>48491.0</td>\n",
       "      <td>59807.0</td>\n",
       "      <td>58240.0</td>\n",
       "      <td>55256.0</td>\n",
       "      <td>53092.0</td>\n",
       "      <td>44325.0</td>\n",
       "      <td>51807.0</td>\n",
       "      <td>59337.0</td>\n",
       "      <td>...</td>\n",
       "      <td>19412.0</td>\n",
       "      <td>24473.0</td>\n",
       "      <td>24320.0</td>\n",
       "      <td>17174.0</td>\n",
       "      <td>17373.0</td>\n",
       "      <td>-576.98</td>\n",
       "      <td>15707.0</td>\n",
       "      <td>4772.4</td>\n",
       "      <td>0.0</td>\n",
       "      <td>0.0</td>\n",
       "    </tr>\n",
       "  </tbody>\n",
       "</table>\n",
       "<p>5 rows × 67 columns</p>\n",
       "</div>"
      ],
      "text/plain": [
       "       Time    FP1_1    FP2_1    AFZ_1     F7_1     F3_1     F4_1     F8_1  \\\n",
       "0  0.001953  46949.0  48729.0  59912.0  58426.0  55468.0  53324.0  44591.0   \n",
       "1  0.003906  46984.0  48765.0  59959.0  58477.0  55515.0  53376.0  44640.0   \n",
       "2  0.005859  46976.0  48722.0  59945.0  58446.0  55474.0  53327.0  44588.0   \n",
       "3  0.007812  46922.0  48621.0  59888.0  58360.0  55376.0  53224.0  44469.0   \n",
       "4  0.009766  46845.0  48491.0  59807.0  58240.0  55256.0  53092.0  44325.0   \n",
       "\n",
       "     FC5_1    FC1_1  ...     P8_2    PO7_2     O1_2     Oz_2     O2_2   PO8_2  \\\n",
       "0  52014.0  59471.0  ...  19458.0  24501.0  24401.0  17219.0  17435.0 -529.48   \n",
       "1  52050.0  59530.0  ...  19453.0  24505.0  24383.0  17221.0  17426.0 -533.10   \n",
       "2  52011.0  59506.0  ...  19464.0  24520.0  24407.0  17251.0  17442.0 -520.55   \n",
       "3  51923.0  59445.0  ...  19443.0  24489.0  24352.0  17195.0  17409.0 -545.98   \n",
       "4  51807.0  59337.0  ...  19412.0  24473.0  24320.0  17174.0  17373.0 -576.98   \n",
       "\n",
       "     PO9_2  PO10_2  Events  Target  \n",
       "0  15742.0  5094.6     0.0     0.0  \n",
       "1  15733.0  4741.9     0.0     0.0  \n",
       "2  15737.0  4544.2     0.0     0.0  \n",
       "3  15716.0  4533.4     0.0     0.0  \n",
       "4  15707.0  4772.4     0.0     0.0  \n",
       "\n",
       "[5 rows x 67 columns]"
      ]
     },
     "execution_count": 5,
     "metadata": {},
     "output_type": "execute_result"
    }
   ],
   "source": [
    "df1.columns = list(header)\n",
    "df2.columns = list(header)\n",
    "df1.head(5)"
   ]
  },
  {
   "cell_type": "code",
   "execution_count": 6,
   "metadata": {
    "id": "jm7an8AQpu4j"
   },
   "outputs": [
    {
     "data": {
      "text/html": [
       "<div>\n",
       "<style scoped>\n",
       "    .dataframe tbody tr th:only-of-type {\n",
       "        vertical-align: middle;\n",
       "    }\n",
       "\n",
       "    .dataframe tbody tr th {\n",
       "        vertical-align: top;\n",
       "    }\n",
       "\n",
       "    .dataframe thead th {\n",
       "        text-align: right;\n",
       "    }\n",
       "</style>\n",
       "<table border=\"1\" class=\"dataframe\">\n",
       "  <thead>\n",
       "    <tr style=\"text-align: right;\">\n",
       "      <th></th>\n",
       "      <th>FP1_1</th>\n",
       "      <th>FP2_1</th>\n",
       "      <th>AFZ_1</th>\n",
       "      <th>F7_1</th>\n",
       "      <th>F3_1</th>\n",
       "      <th>F4_1</th>\n",
       "      <th>F8_1</th>\n",
       "      <th>FC5_1</th>\n",
       "      <th>FC1_1</th>\n",
       "      <th>FC2_1</th>\n",
       "      <th>...</th>\n",
       "      <th>P8_2</th>\n",
       "      <th>PO7_2</th>\n",
       "      <th>O1_2</th>\n",
       "      <th>Oz_2</th>\n",
       "      <th>O2_2</th>\n",
       "      <th>PO8_2</th>\n",
       "      <th>PO9_2</th>\n",
       "      <th>PO10_2</th>\n",
       "      <th>Events</th>\n",
       "      <th>Target</th>\n",
       "    </tr>\n",
       "  </thead>\n",
       "  <tbody>\n",
       "    <tr>\n",
       "      <th>0</th>\n",
       "      <td>54589.0</td>\n",
       "      <td>55238.0</td>\n",
       "      <td>68817.0</td>\n",
       "      <td>61389.0</td>\n",
       "      <td>60659.0</td>\n",
       "      <td>59589.0</td>\n",
       "      <td>50781.0</td>\n",
       "      <td>58104.0</td>\n",
       "      <td>68243.0</td>\n",
       "      <td>70366.0</td>\n",
       "      <td>...</td>\n",
       "      <td>24600.0</td>\n",
       "      <td>26544.0</td>\n",
       "      <td>27900.0</td>\n",
       "      <td>23125.0</td>\n",
       "      <td>20075.0</td>\n",
       "      <td>-2081.4</td>\n",
       "      <td>19024.0</td>\n",
       "      <td>-132130.0</td>\n",
       "      <td>0.0</td>\n",
       "      <td>0.0</td>\n",
       "    </tr>\n",
       "    <tr>\n",
       "      <th>1</th>\n",
       "      <td>54646.0</td>\n",
       "      <td>55321.0</td>\n",
       "      <td>68880.0</td>\n",
       "      <td>61461.0</td>\n",
       "      <td>60742.0</td>\n",
       "      <td>59674.0</td>\n",
       "      <td>50868.0</td>\n",
       "      <td>58182.0</td>\n",
       "      <td>68316.0</td>\n",
       "      <td>70435.0</td>\n",
       "      <td>...</td>\n",
       "      <td>24598.0</td>\n",
       "      <td>26539.0</td>\n",
       "      <td>27900.0</td>\n",
       "      <td>23126.0</td>\n",
       "      <td>20071.0</td>\n",
       "      <td>-2084.6</td>\n",
       "      <td>19019.0</td>\n",
       "      <td>-132070.0</td>\n",
       "      <td>0.0</td>\n",
       "      <td>0.0</td>\n",
       "    </tr>\n",
       "    <tr>\n",
       "      <th>2</th>\n",
       "      <td>54790.0</td>\n",
       "      <td>55508.0</td>\n",
       "      <td>69034.0</td>\n",
       "      <td>61630.0</td>\n",
       "      <td>60919.0</td>\n",
       "      <td>59860.0</td>\n",
       "      <td>51062.0</td>\n",
       "      <td>58351.0</td>\n",
       "      <td>68481.0</td>\n",
       "      <td>70597.0</td>\n",
       "      <td>...</td>\n",
       "      <td>24631.0</td>\n",
       "      <td>26579.0</td>\n",
       "      <td>27924.0</td>\n",
       "      <td>23162.0</td>\n",
       "      <td>20089.0</td>\n",
       "      <td>-2063.2</td>\n",
       "      <td>19067.0</td>\n",
       "      <td>-132370.0</td>\n",
       "      <td>0.0</td>\n",
       "      <td>0.0</td>\n",
       "    </tr>\n",
       "    <tr>\n",
       "      <th>3</th>\n",
       "      <td>54862.0</td>\n",
       "      <td>55602.0</td>\n",
       "      <td>69114.0</td>\n",
       "      <td>61722.0</td>\n",
       "      <td>61011.0</td>\n",
       "      <td>59951.0</td>\n",
       "      <td>51157.0</td>\n",
       "      <td>58438.0</td>\n",
       "      <td>68571.0</td>\n",
       "      <td>70681.0</td>\n",
       "      <td>...</td>\n",
       "      <td>24639.0</td>\n",
       "      <td>26580.0</td>\n",
       "      <td>27927.0</td>\n",
       "      <td>23151.0</td>\n",
       "      <td>20104.0</td>\n",
       "      <td>-2047.4</td>\n",
       "      <td>19069.0</td>\n",
       "      <td>-132540.0</td>\n",
       "      <td>0.0</td>\n",
       "      <td>0.0</td>\n",
       "    </tr>\n",
       "    <tr>\n",
       "      <th>4</th>\n",
       "      <td>54959.0</td>\n",
       "      <td>55724.0</td>\n",
       "      <td>69222.0</td>\n",
       "      <td>61831.0</td>\n",
       "      <td>61129.0</td>\n",
       "      <td>60073.0</td>\n",
       "      <td>51279.0</td>\n",
       "      <td>58551.0</td>\n",
       "      <td>68685.0</td>\n",
       "      <td>70793.0</td>\n",
       "      <td>...</td>\n",
       "      <td>24667.0</td>\n",
       "      <td>26603.0</td>\n",
       "      <td>27963.0</td>\n",
       "      <td>23175.0</td>\n",
       "      <td>20138.0</td>\n",
       "      <td>-2018.4</td>\n",
       "      <td>19098.0</td>\n",
       "      <td>-133000.0</td>\n",
       "      <td>0.0</td>\n",
       "      <td>0.0</td>\n",
       "    </tr>\n",
       "  </tbody>\n",
       "</table>\n",
       "<p>5 rows × 66 columns</p>\n",
       "</div>"
      ],
      "text/plain": [
       "     FP1_1    FP2_1    AFZ_1     F7_1     F3_1     F4_1     F8_1    FC5_1  \\\n",
       "0  54589.0  55238.0  68817.0  61389.0  60659.0  59589.0  50781.0  58104.0   \n",
       "1  54646.0  55321.0  68880.0  61461.0  60742.0  59674.0  50868.0  58182.0   \n",
       "2  54790.0  55508.0  69034.0  61630.0  60919.0  59860.0  51062.0  58351.0   \n",
       "3  54862.0  55602.0  69114.0  61722.0  61011.0  59951.0  51157.0  58438.0   \n",
       "4  54959.0  55724.0  69222.0  61831.0  61129.0  60073.0  51279.0  58551.0   \n",
       "\n",
       "     FC1_1    FC2_1  ...     P8_2    PO7_2     O1_2     Oz_2     O2_2   PO8_2  \\\n",
       "0  68243.0  70366.0  ...  24600.0  26544.0  27900.0  23125.0  20075.0 -2081.4   \n",
       "1  68316.0  70435.0  ...  24598.0  26539.0  27900.0  23126.0  20071.0 -2084.6   \n",
       "2  68481.0  70597.0  ...  24631.0  26579.0  27924.0  23162.0  20089.0 -2063.2   \n",
       "3  68571.0  70681.0  ...  24639.0  26580.0  27927.0  23151.0  20104.0 -2047.4   \n",
       "4  68685.0  70793.0  ...  24667.0  26603.0  27963.0  23175.0  20138.0 -2018.4   \n",
       "\n",
       "     PO9_2    PO10_2  Events  Target  \n",
       "0  19024.0 -132130.0     0.0     0.0  \n",
       "1  19019.0 -132070.0     0.0     0.0  \n",
       "2  19067.0 -132370.0     0.0     0.0  \n",
       "3  19069.0 -132540.0     0.0     0.0  \n",
       "4  19098.0 -133000.0     0.0     0.0  \n",
       "\n",
       "[5 rows x 66 columns]"
      ]
     },
     "execution_count": 6,
     "metadata": {},
     "output_type": "execute_result"
    }
   ],
   "source": [
    "df1 = df1.drop(['Time'], axis=1)\n",
    "df2 = df2.drop(['Time'], axis=1)\n",
    "df2.head(5)"
   ]
  },
  {
   "cell_type": "code",
   "execution_count": 7,
   "metadata": {
    "id": "TTcjDhppqQJl"
   },
   "outputs": [
    {
     "data": {
      "text/html": [
       "<div>\n",
       "<style scoped>\n",
       "    .dataframe tbody tr th:only-of-type {\n",
       "        vertical-align: middle;\n",
       "    }\n",
       "\n",
       "    .dataframe tbody tr th {\n",
       "        vertical-align: top;\n",
       "    }\n",
       "\n",
       "    .dataframe thead th {\n",
       "        text-align: right;\n",
       "    }\n",
       "</style>\n",
       "<table border=\"1\" class=\"dataframe\">\n",
       "  <thead>\n",
       "    <tr style=\"text-align: right;\">\n",
       "      <th></th>\n",
       "      <th>FP1_1</th>\n",
       "      <th>FP2_1</th>\n",
       "      <th>AFZ_1</th>\n",
       "      <th>F7_1</th>\n",
       "      <th>F3_1</th>\n",
       "      <th>F4_1</th>\n",
       "      <th>F8_1</th>\n",
       "      <th>FC5_1</th>\n",
       "      <th>FC1_1</th>\n",
       "      <th>FC2_1</th>\n",
       "      <th>...</th>\n",
       "      <th>P8_2</th>\n",
       "      <th>PO7_2</th>\n",
       "      <th>O1_2</th>\n",
       "      <th>Oz_2</th>\n",
       "      <th>O2_2</th>\n",
       "      <th>PO8_2</th>\n",
       "      <th>PO9_2</th>\n",
       "      <th>PO10_2</th>\n",
       "      <th>Events</th>\n",
       "      <th>Target</th>\n",
       "    </tr>\n",
       "  </thead>\n",
       "  <tbody>\n",
       "    <tr>\n",
       "      <th>0</th>\n",
       "      <td>46949.0</td>\n",
       "      <td>48729.0</td>\n",
       "      <td>59912.0</td>\n",
       "      <td>58426.0</td>\n",
       "      <td>55468.0</td>\n",
       "      <td>53324.0</td>\n",
       "      <td>44591.0</td>\n",
       "      <td>52014.0</td>\n",
       "      <td>59471.0</td>\n",
       "      <td>62621.0</td>\n",
       "      <td>...</td>\n",
       "      <td>19458.0</td>\n",
       "      <td>24501.0</td>\n",
       "      <td>24401.0</td>\n",
       "      <td>17219.0</td>\n",
       "      <td>17435.0</td>\n",
       "      <td>-529.48</td>\n",
       "      <td>15742.0</td>\n",
       "      <td>5094.6</td>\n",
       "      <td>0.0</td>\n",
       "      <td>0.0</td>\n",
       "    </tr>\n",
       "    <tr>\n",
       "      <th>1</th>\n",
       "      <td>46984.0</td>\n",
       "      <td>48765.0</td>\n",
       "      <td>59959.0</td>\n",
       "      <td>58477.0</td>\n",
       "      <td>55515.0</td>\n",
       "      <td>53376.0</td>\n",
       "      <td>44640.0</td>\n",
       "      <td>52050.0</td>\n",
       "      <td>59530.0</td>\n",
       "      <td>62684.0</td>\n",
       "      <td>...</td>\n",
       "      <td>19453.0</td>\n",
       "      <td>24505.0</td>\n",
       "      <td>24383.0</td>\n",
       "      <td>17221.0</td>\n",
       "      <td>17426.0</td>\n",
       "      <td>-533.10</td>\n",
       "      <td>15733.0</td>\n",
       "      <td>4741.9</td>\n",
       "      <td>0.0</td>\n",
       "      <td>0.0</td>\n",
       "    </tr>\n",
       "    <tr>\n",
       "      <th>2</th>\n",
       "      <td>46976.0</td>\n",
       "      <td>48722.0</td>\n",
       "      <td>59945.0</td>\n",
       "      <td>58446.0</td>\n",
       "      <td>55474.0</td>\n",
       "      <td>53327.0</td>\n",
       "      <td>44588.0</td>\n",
       "      <td>52011.0</td>\n",
       "      <td>59506.0</td>\n",
       "      <td>62672.0</td>\n",
       "      <td>...</td>\n",
       "      <td>19464.0</td>\n",
       "      <td>24520.0</td>\n",
       "      <td>24407.0</td>\n",
       "      <td>17251.0</td>\n",
       "      <td>17442.0</td>\n",
       "      <td>-520.55</td>\n",
       "      <td>15737.0</td>\n",
       "      <td>4544.2</td>\n",
       "      <td>0.0</td>\n",
       "      <td>0.0</td>\n",
       "    </tr>\n",
       "    <tr>\n",
       "      <th>3</th>\n",
       "      <td>46922.0</td>\n",
       "      <td>48621.0</td>\n",
       "      <td>59888.0</td>\n",
       "      <td>58360.0</td>\n",
       "      <td>55376.0</td>\n",
       "      <td>53224.0</td>\n",
       "      <td>44469.0</td>\n",
       "      <td>51923.0</td>\n",
       "      <td>59445.0</td>\n",
       "      <td>62629.0</td>\n",
       "      <td>...</td>\n",
       "      <td>19443.0</td>\n",
       "      <td>24489.0</td>\n",
       "      <td>24352.0</td>\n",
       "      <td>17195.0</td>\n",
       "      <td>17409.0</td>\n",
       "      <td>-545.98</td>\n",
       "      <td>15716.0</td>\n",
       "      <td>4533.4</td>\n",
       "      <td>0.0</td>\n",
       "      <td>0.0</td>\n",
       "    </tr>\n",
       "    <tr>\n",
       "      <th>4</th>\n",
       "      <td>46845.0</td>\n",
       "      <td>48491.0</td>\n",
       "      <td>59807.0</td>\n",
       "      <td>58240.0</td>\n",
       "      <td>55256.0</td>\n",
       "      <td>53092.0</td>\n",
       "      <td>44325.0</td>\n",
       "      <td>51807.0</td>\n",
       "      <td>59337.0</td>\n",
       "      <td>62541.0</td>\n",
       "      <td>...</td>\n",
       "      <td>19412.0</td>\n",
       "      <td>24473.0</td>\n",
       "      <td>24320.0</td>\n",
       "      <td>17174.0</td>\n",
       "      <td>17373.0</td>\n",
       "      <td>-576.98</td>\n",
       "      <td>15707.0</td>\n",
       "      <td>4772.4</td>\n",
       "      <td>0.0</td>\n",
       "      <td>0.0</td>\n",
       "    </tr>\n",
       "  </tbody>\n",
       "</table>\n",
       "<p>5 rows × 66 columns</p>\n",
       "</div>"
      ],
      "text/plain": [
       "     FP1_1    FP2_1    AFZ_1     F7_1     F3_1     F4_1     F8_1    FC5_1  \\\n",
       "0  46949.0  48729.0  59912.0  58426.0  55468.0  53324.0  44591.0  52014.0   \n",
       "1  46984.0  48765.0  59959.0  58477.0  55515.0  53376.0  44640.0  52050.0   \n",
       "2  46976.0  48722.0  59945.0  58446.0  55474.0  53327.0  44588.0  52011.0   \n",
       "3  46922.0  48621.0  59888.0  58360.0  55376.0  53224.0  44469.0  51923.0   \n",
       "4  46845.0  48491.0  59807.0  58240.0  55256.0  53092.0  44325.0  51807.0   \n",
       "\n",
       "     FC1_1    FC2_1  ...     P8_2    PO7_2     O1_2     Oz_2     O2_2   PO8_2  \\\n",
       "0  59471.0  62621.0  ...  19458.0  24501.0  24401.0  17219.0  17435.0 -529.48   \n",
       "1  59530.0  62684.0  ...  19453.0  24505.0  24383.0  17221.0  17426.0 -533.10   \n",
       "2  59506.0  62672.0  ...  19464.0  24520.0  24407.0  17251.0  17442.0 -520.55   \n",
       "3  59445.0  62629.0  ...  19443.0  24489.0  24352.0  17195.0  17409.0 -545.98   \n",
       "4  59337.0  62541.0  ...  19412.0  24473.0  24320.0  17174.0  17373.0 -576.98   \n",
       "\n",
       "     PO9_2  PO10_2  Events  Target  \n",
       "0  15742.0  5094.6     0.0     0.0  \n",
       "1  15733.0  4741.9     0.0     0.0  \n",
       "2  15737.0  4544.2     0.0     0.0  \n",
       "3  15716.0  4533.4     0.0     0.0  \n",
       "4  15707.0  4772.4     0.0     0.0  \n",
       "\n",
       "[5 rows x 66 columns]"
      ]
     },
     "execution_count": 7,
     "metadata": {},
     "output_type": "execute_result"
    }
   ],
   "source": [
    "df1.head(5)"
   ]
  },
  {
   "cell_type": "code",
   "execution_count": 8,
   "metadata": {
    "id": "iFR5_lgnp4_b"
   },
   "outputs": [
    {
     "name": "stderr",
     "output_type": "stream",
     "text": [
      "C:\\Users\\minkh\\AppData\\Local\\Temp/ipykernel_23908/1905045347.py:10: SettingWithCopyWarning: \n",
      "A value is trying to be set on a copy of a slice from a DataFrame.\n",
      "Try using .loc[row_indexer,col_indexer] = value instead\n",
      "\n",
      "See the caveats in the documentation: https://pandas.pydata.org/pandas-docs/stable/user_guide/indexing.html#returning-a-view-versus-a-copy\n",
      "  df1s1['Target'] = df1['Target']\n",
      "C:\\Users\\minkh\\AppData\\Local\\Temp/ipykernel_23908/1905045347.py:11: SettingWithCopyWarning: \n",
      "A value is trying to be set on a copy of a slice from a DataFrame.\n",
      "Try using .loc[row_indexer,col_indexer] = value instead\n",
      "\n",
      "See the caveats in the documentation: https://pandas.pydata.org/pandas-docs/stable/user_guide/indexing.html#returning-a-view-versus-a-copy\n",
      "  df2s1['Target'] = df2['Target']\n"
     ]
    }
   ],
   "source": [
    "header = ['Fp1', 'Fp2', 'AFz', 'F7', 'F3', 'F4', 'F8', \n",
    "          'FC5', 'FC1', 'FC2', 'FC6', 'T7', 'C3', 'Cz', \n",
    "          'C4', 'T8', 'CP5', 'CP1', 'CP2', 'CP6', 'P7', \n",
    "          'P3', 'Pz', 'P4', 'P8', 'PO7', 'O1', 'Oz', \n",
    "          'O2', 'PO8', 'PO9', 'PO10','Target']\n",
    "\n",
    "df1s1 = df1.iloc[:, :32]\n",
    "df2s1 = df2.iloc[:, :32]\n",
    "\n",
    "df1s1['Target'] = df1['Target']\n",
    "df2s1['Target'] = df2['Target']\n",
    "\n",
    "df1s1.columns = header\n",
    "df2s1.columns = header"
   ]
  },
  {
   "cell_type": "code",
   "execution_count": 9,
   "metadata": {
    "id": "RUUfLMycqRK6"
   },
   "outputs": [
    {
     "data": {
      "text/html": [
       "<div>\n",
       "<style scoped>\n",
       "    .dataframe tbody tr th:only-of-type {\n",
       "        vertical-align: middle;\n",
       "    }\n",
       "\n",
       "    .dataframe tbody tr th {\n",
       "        vertical-align: top;\n",
       "    }\n",
       "\n",
       "    .dataframe thead th {\n",
       "        text-align: right;\n",
       "    }\n",
       "</style>\n",
       "<table border=\"1\" class=\"dataframe\">\n",
       "  <thead>\n",
       "    <tr style=\"text-align: right;\">\n",
       "      <th></th>\n",
       "      <th>Fp1</th>\n",
       "      <th>Fp2</th>\n",
       "      <th>AFz</th>\n",
       "      <th>F7</th>\n",
       "      <th>F3</th>\n",
       "      <th>F4</th>\n",
       "      <th>F8</th>\n",
       "      <th>FC5</th>\n",
       "      <th>FC1</th>\n",
       "      <th>FC2</th>\n",
       "      <th>...</th>\n",
       "      <th>P4</th>\n",
       "      <th>P8</th>\n",
       "      <th>PO7</th>\n",
       "      <th>O1</th>\n",
       "      <th>Oz</th>\n",
       "      <th>O2</th>\n",
       "      <th>PO8</th>\n",
       "      <th>PO9</th>\n",
       "      <th>PO10</th>\n",
       "      <th>Target</th>\n",
       "    </tr>\n",
       "  </thead>\n",
       "  <tbody>\n",
       "    <tr>\n",
       "      <th>0</th>\n",
       "      <td>46949.0</td>\n",
       "      <td>48729.0</td>\n",
       "      <td>59912.0</td>\n",
       "      <td>58426.0</td>\n",
       "      <td>55468.0</td>\n",
       "      <td>53324.0</td>\n",
       "      <td>44591.0</td>\n",
       "      <td>52014.0</td>\n",
       "      <td>59471.0</td>\n",
       "      <td>62621.0</td>\n",
       "      <td>...</td>\n",
       "      <td>41227.0</td>\n",
       "      <td>45553.0</td>\n",
       "      <td>48458.0</td>\n",
       "      <td>50245.0</td>\n",
       "      <td>47341.0</td>\n",
       "      <td>46492.0</td>\n",
       "      <td>47436.0</td>\n",
       "      <td>45936.0</td>\n",
       "      <td>42587.0</td>\n",
       "      <td>0.0</td>\n",
       "    </tr>\n",
       "    <tr>\n",
       "      <th>1</th>\n",
       "      <td>46984.0</td>\n",
       "      <td>48765.0</td>\n",
       "      <td>59959.0</td>\n",
       "      <td>58477.0</td>\n",
       "      <td>55515.0</td>\n",
       "      <td>53376.0</td>\n",
       "      <td>44640.0</td>\n",
       "      <td>52050.0</td>\n",
       "      <td>59530.0</td>\n",
       "      <td>62684.0</td>\n",
       "      <td>...</td>\n",
       "      <td>41277.0</td>\n",
       "      <td>45600.0</td>\n",
       "      <td>48480.0</td>\n",
       "      <td>50275.0</td>\n",
       "      <td>47388.0</td>\n",
       "      <td>46534.0</td>\n",
       "      <td>47482.0</td>\n",
       "      <td>45998.0</td>\n",
       "      <td>42642.0</td>\n",
       "      <td>0.0</td>\n",
       "    </tr>\n",
       "    <tr>\n",
       "      <th>2</th>\n",
       "      <td>46976.0</td>\n",
       "      <td>48722.0</td>\n",
       "      <td>59945.0</td>\n",
       "      <td>58446.0</td>\n",
       "      <td>55474.0</td>\n",
       "      <td>53327.0</td>\n",
       "      <td>44588.0</td>\n",
       "      <td>52011.0</td>\n",
       "      <td>59506.0</td>\n",
       "      <td>62672.0</td>\n",
       "      <td>...</td>\n",
       "      <td>41226.0</td>\n",
       "      <td>45549.0</td>\n",
       "      <td>48432.0</td>\n",
       "      <td>50226.0</td>\n",
       "      <td>47353.0</td>\n",
       "      <td>46471.0</td>\n",
       "      <td>47421.0</td>\n",
       "      <td>45949.0</td>\n",
       "      <td>42590.0</td>\n",
       "      <td>0.0</td>\n",
       "    </tr>\n",
       "    <tr>\n",
       "      <th>3</th>\n",
       "      <td>46922.0</td>\n",
       "      <td>48621.0</td>\n",
       "      <td>59888.0</td>\n",
       "      <td>58360.0</td>\n",
       "      <td>55376.0</td>\n",
       "      <td>53224.0</td>\n",
       "      <td>44469.0</td>\n",
       "      <td>51923.0</td>\n",
       "      <td>59445.0</td>\n",
       "      <td>62629.0</td>\n",
       "      <td>...</td>\n",
       "      <td>41110.0</td>\n",
       "      <td>45438.0</td>\n",
       "      <td>48331.0</td>\n",
       "      <td>50115.0</td>\n",
       "      <td>47262.0</td>\n",
       "      <td>46374.0</td>\n",
       "      <td>47311.0</td>\n",
       "      <td>45832.0</td>\n",
       "      <td>42467.0</td>\n",
       "      <td>0.0</td>\n",
       "    </tr>\n",
       "    <tr>\n",
       "      <th>4</th>\n",
       "      <td>46845.0</td>\n",
       "      <td>48491.0</td>\n",
       "      <td>59807.0</td>\n",
       "      <td>58240.0</td>\n",
       "      <td>55256.0</td>\n",
       "      <td>53092.0</td>\n",
       "      <td>44325.0</td>\n",
       "      <td>51807.0</td>\n",
       "      <td>59337.0</td>\n",
       "      <td>62541.0</td>\n",
       "      <td>...</td>\n",
       "      <td>40977.0</td>\n",
       "      <td>45315.0</td>\n",
       "      <td>48208.0</td>\n",
       "      <td>49986.0</td>\n",
       "      <td>47151.0</td>\n",
       "      <td>46263.0</td>\n",
       "      <td>47180.0</td>\n",
       "      <td>45689.0</td>\n",
       "      <td>42322.0</td>\n",
       "      <td>0.0</td>\n",
       "    </tr>\n",
       "  </tbody>\n",
       "</table>\n",
       "<p>5 rows × 33 columns</p>\n",
       "</div>"
      ],
      "text/plain": [
       "       Fp1      Fp2      AFz       F7       F3       F4       F8      FC5  \\\n",
       "0  46949.0  48729.0  59912.0  58426.0  55468.0  53324.0  44591.0  52014.0   \n",
       "1  46984.0  48765.0  59959.0  58477.0  55515.0  53376.0  44640.0  52050.0   \n",
       "2  46976.0  48722.0  59945.0  58446.0  55474.0  53327.0  44588.0  52011.0   \n",
       "3  46922.0  48621.0  59888.0  58360.0  55376.0  53224.0  44469.0  51923.0   \n",
       "4  46845.0  48491.0  59807.0  58240.0  55256.0  53092.0  44325.0  51807.0   \n",
       "\n",
       "       FC1      FC2  ...       P4       P8      PO7       O1       Oz  \\\n",
       "0  59471.0  62621.0  ...  41227.0  45553.0  48458.0  50245.0  47341.0   \n",
       "1  59530.0  62684.0  ...  41277.0  45600.0  48480.0  50275.0  47388.0   \n",
       "2  59506.0  62672.0  ...  41226.0  45549.0  48432.0  50226.0  47353.0   \n",
       "3  59445.0  62629.0  ...  41110.0  45438.0  48331.0  50115.0  47262.0   \n",
       "4  59337.0  62541.0  ...  40977.0  45315.0  48208.0  49986.0  47151.0   \n",
       "\n",
       "        O2      PO8      PO9     PO10  Target  \n",
       "0  46492.0  47436.0  45936.0  42587.0     0.0  \n",
       "1  46534.0  47482.0  45998.0  42642.0     0.0  \n",
       "2  46471.0  47421.0  45949.0  42590.0     0.0  \n",
       "3  46374.0  47311.0  45832.0  42467.0     0.0  \n",
       "4  46263.0  47180.0  45689.0  42322.0     0.0  \n",
       "\n",
       "[5 rows x 33 columns]"
      ]
     },
     "execution_count": 9,
     "metadata": {},
     "output_type": "execute_result"
    }
   ],
   "source": [
    "df1s1.head(5)"
   ]
  },
  {
   "cell_type": "code",
   "execution_count": 10,
   "metadata": {
    "id": "UlAKfVTarVjw"
   },
   "outputs": [
    {
     "data": {
      "text/html": [
       "<div>\n",
       "<style scoped>\n",
       "    .dataframe tbody tr th:only-of-type {\n",
       "        vertical-align: middle;\n",
       "    }\n",
       "\n",
       "    .dataframe tbody tr th {\n",
       "        vertical-align: top;\n",
       "    }\n",
       "\n",
       "    .dataframe thead th {\n",
       "        text-align: right;\n",
       "    }\n",
       "</style>\n",
       "<table border=\"1\" class=\"dataframe\">\n",
       "  <thead>\n",
       "    <tr style=\"text-align: right;\">\n",
       "      <th></th>\n",
       "      <th>Fp1</th>\n",
       "      <th>Fp2</th>\n",
       "      <th>AFz</th>\n",
       "      <th>F7</th>\n",
       "      <th>F3</th>\n",
       "      <th>F4</th>\n",
       "      <th>F8</th>\n",
       "      <th>FC5</th>\n",
       "      <th>FC1</th>\n",
       "      <th>FC2</th>\n",
       "      <th>...</th>\n",
       "      <th>P4</th>\n",
       "      <th>P8</th>\n",
       "      <th>PO7</th>\n",
       "      <th>O1</th>\n",
       "      <th>Oz</th>\n",
       "      <th>O2</th>\n",
       "      <th>PO8</th>\n",
       "      <th>PO9</th>\n",
       "      <th>PO10</th>\n",
       "      <th>Target</th>\n",
       "    </tr>\n",
       "  </thead>\n",
       "  <tbody>\n",
       "    <tr>\n",
       "      <th>0</th>\n",
       "      <td>54589.0</td>\n",
       "      <td>55238.0</td>\n",
       "      <td>68817.0</td>\n",
       "      <td>61389.0</td>\n",
       "      <td>60659.0</td>\n",
       "      <td>59589.0</td>\n",
       "      <td>50781.0</td>\n",
       "      <td>58104.0</td>\n",
       "      <td>68243.0</td>\n",
       "      <td>70366.0</td>\n",
       "      <td>...</td>\n",
       "      <td>49613.0</td>\n",
       "      <td>53932.0</td>\n",
       "      <td>57899.0</td>\n",
       "      <td>57379.0</td>\n",
       "      <td>54521.0</td>\n",
       "      <td>54029.0</td>\n",
       "      <td>55296.0</td>\n",
       "      <td>53193.0</td>\n",
       "      <td>50795.0</td>\n",
       "      <td>0.0</td>\n",
       "    </tr>\n",
       "    <tr>\n",
       "      <th>1</th>\n",
       "      <td>54646.0</td>\n",
       "      <td>55321.0</td>\n",
       "      <td>68880.0</td>\n",
       "      <td>61461.0</td>\n",
       "      <td>60742.0</td>\n",
       "      <td>59674.0</td>\n",
       "      <td>50868.0</td>\n",
       "      <td>58182.0</td>\n",
       "      <td>68316.0</td>\n",
       "      <td>70435.0</td>\n",
       "      <td>...</td>\n",
       "      <td>49705.0</td>\n",
       "      <td>54017.0</td>\n",
       "      <td>57997.0</td>\n",
       "      <td>57480.0</td>\n",
       "      <td>54617.0</td>\n",
       "      <td>54125.0</td>\n",
       "      <td>55391.0</td>\n",
       "      <td>53275.0</td>\n",
       "      <td>50886.0</td>\n",
       "      <td>0.0</td>\n",
       "    </tr>\n",
       "    <tr>\n",
       "      <th>2</th>\n",
       "      <td>54790.0</td>\n",
       "      <td>55508.0</td>\n",
       "      <td>69034.0</td>\n",
       "      <td>61630.0</td>\n",
       "      <td>60919.0</td>\n",
       "      <td>59860.0</td>\n",
       "      <td>51062.0</td>\n",
       "      <td>58351.0</td>\n",
       "      <td>68481.0</td>\n",
       "      <td>70597.0</td>\n",
       "      <td>...</td>\n",
       "      <td>49895.0</td>\n",
       "      <td>54200.0</td>\n",
       "      <td>58188.0</td>\n",
       "      <td>57672.0</td>\n",
       "      <td>54790.0</td>\n",
       "      <td>54303.0</td>\n",
       "      <td>55582.0</td>\n",
       "      <td>53470.0</td>\n",
       "      <td>51077.0</td>\n",
       "      <td>0.0</td>\n",
       "    </tr>\n",
       "    <tr>\n",
       "      <th>3</th>\n",
       "      <td>54862.0</td>\n",
       "      <td>55602.0</td>\n",
       "      <td>69114.0</td>\n",
       "      <td>61722.0</td>\n",
       "      <td>61011.0</td>\n",
       "      <td>59951.0</td>\n",
       "      <td>51157.0</td>\n",
       "      <td>58438.0</td>\n",
       "      <td>68571.0</td>\n",
       "      <td>70681.0</td>\n",
       "      <td>...</td>\n",
       "      <td>49979.0</td>\n",
       "      <td>54284.0</td>\n",
       "      <td>58260.0</td>\n",
       "      <td>57744.0</td>\n",
       "      <td>54860.0</td>\n",
       "      <td>54377.0</td>\n",
       "      <td>55666.0</td>\n",
       "      <td>53550.0</td>\n",
       "      <td>51164.0</td>\n",
       "      <td>0.0</td>\n",
       "    </tr>\n",
       "    <tr>\n",
       "      <th>4</th>\n",
       "      <td>54959.0</td>\n",
       "      <td>55724.0</td>\n",
       "      <td>69222.0</td>\n",
       "      <td>61831.0</td>\n",
       "      <td>61129.0</td>\n",
       "      <td>60073.0</td>\n",
       "      <td>51279.0</td>\n",
       "      <td>58551.0</td>\n",
       "      <td>68685.0</td>\n",
       "      <td>70793.0</td>\n",
       "      <td>...</td>\n",
       "      <td>50103.0</td>\n",
       "      <td>54404.0</td>\n",
       "      <td>58378.0</td>\n",
       "      <td>57868.0</td>\n",
       "      <td>54985.0</td>\n",
       "      <td>54499.0</td>\n",
       "      <td>55787.0</td>\n",
       "      <td>53676.0</td>\n",
       "      <td>51282.0</td>\n",
       "      <td>0.0</td>\n",
       "    </tr>\n",
       "  </tbody>\n",
       "</table>\n",
       "<p>5 rows × 33 columns</p>\n",
       "</div>"
      ],
      "text/plain": [
       "       Fp1      Fp2      AFz       F7       F3       F4       F8      FC5  \\\n",
       "0  54589.0  55238.0  68817.0  61389.0  60659.0  59589.0  50781.0  58104.0   \n",
       "1  54646.0  55321.0  68880.0  61461.0  60742.0  59674.0  50868.0  58182.0   \n",
       "2  54790.0  55508.0  69034.0  61630.0  60919.0  59860.0  51062.0  58351.0   \n",
       "3  54862.0  55602.0  69114.0  61722.0  61011.0  59951.0  51157.0  58438.0   \n",
       "4  54959.0  55724.0  69222.0  61831.0  61129.0  60073.0  51279.0  58551.0   \n",
       "\n",
       "       FC1      FC2  ...       P4       P8      PO7       O1       Oz  \\\n",
       "0  68243.0  70366.0  ...  49613.0  53932.0  57899.0  57379.0  54521.0   \n",
       "1  68316.0  70435.0  ...  49705.0  54017.0  57997.0  57480.0  54617.0   \n",
       "2  68481.0  70597.0  ...  49895.0  54200.0  58188.0  57672.0  54790.0   \n",
       "3  68571.0  70681.0  ...  49979.0  54284.0  58260.0  57744.0  54860.0   \n",
       "4  68685.0  70793.0  ...  50103.0  54404.0  58378.0  57868.0  54985.0   \n",
       "\n",
       "        O2      PO8      PO9     PO10  Target  \n",
       "0  54029.0  55296.0  53193.0  50795.0     0.0  \n",
       "1  54125.0  55391.0  53275.0  50886.0     0.0  \n",
       "2  54303.0  55582.0  53470.0  51077.0     0.0  \n",
       "3  54377.0  55666.0  53550.0  51164.0     0.0  \n",
       "4  54499.0  55787.0  53676.0  51282.0     0.0  \n",
       "\n",
       "[5 rows x 33 columns]"
      ]
     },
     "execution_count": 10,
     "metadata": {},
     "output_type": "execute_result"
    }
   ],
   "source": [
    "df2s1.head(5)"
   ]
  },
  {
   "cell_type": "code",
   "execution_count": 11,
   "metadata": {
    "id": "AD030xu_rY23"
   },
   "outputs": [],
   "source": [
    "df = pd.concat((df1s1, df2s1), axis = 0)"
   ]
  },
  {
   "cell_type": "code",
   "execution_count": 12,
   "metadata": {
    "id": "Kl9rNRU1r0Xs"
   },
   "outputs": [
    {
     "name": "stdout",
     "output_type": "stream",
     "text": [
      "(566110, 33)\n",
      "df1s1 (111679, 33)\n",
      "dfss1 (454431, 33)\n"
     ]
    }
   ],
   "source": [
    "print(df.shape)\n",
    "print(\"df1s1\", df1s1.shape)\n",
    "print(\"dfss1\", df2s1.shape)\n",
    "# print(\"df1s1\", df1s1.shape)\n"
   ]
  },
  {
   "cell_type": "code",
   "execution_count": 13,
   "metadata": {
    "id": "ThQy7vBuwefK"
   },
   "outputs": [
    {
     "data": {
      "text/html": [
       "<div>\n",
       "<style scoped>\n",
       "    .dataframe tbody tr th:only-of-type {\n",
       "        vertical-align: middle;\n",
       "    }\n",
       "\n",
       "    .dataframe tbody tr th {\n",
       "        vertical-align: top;\n",
       "    }\n",
       "\n",
       "    .dataframe thead th {\n",
       "        text-align: right;\n",
       "    }\n",
       "</style>\n",
       "<table border=\"1\" class=\"dataframe\">\n",
       "  <thead>\n",
       "    <tr style=\"text-align: right;\">\n",
       "      <th></th>\n",
       "      <th>Fp1</th>\n",
       "      <th>Fp2</th>\n",
       "      <th>AFz</th>\n",
       "      <th>F7</th>\n",
       "      <th>F3</th>\n",
       "      <th>F4</th>\n",
       "      <th>F8</th>\n",
       "      <th>FC5</th>\n",
       "      <th>FC1</th>\n",
       "      <th>FC2</th>\n",
       "      <th>...</th>\n",
       "      <th>P4</th>\n",
       "      <th>P8</th>\n",
       "      <th>PO7</th>\n",
       "      <th>O1</th>\n",
       "      <th>Oz</th>\n",
       "      <th>O2</th>\n",
       "      <th>PO8</th>\n",
       "      <th>PO9</th>\n",
       "      <th>PO10</th>\n",
       "      <th>Target</th>\n",
       "    </tr>\n",
       "  </thead>\n",
       "  <tbody>\n",
       "    <tr>\n",
       "      <th>0</th>\n",
       "      <td>46949.0</td>\n",
       "      <td>48729.0</td>\n",
       "      <td>59912.0</td>\n",
       "      <td>58426.0</td>\n",
       "      <td>55468.0</td>\n",
       "      <td>53324.0</td>\n",
       "      <td>44591.0</td>\n",
       "      <td>52014.0</td>\n",
       "      <td>59471.0</td>\n",
       "      <td>62621.0</td>\n",
       "      <td>...</td>\n",
       "      <td>41227.0</td>\n",
       "      <td>45553.0</td>\n",
       "      <td>48458.0</td>\n",
       "      <td>50245.0</td>\n",
       "      <td>47341.0</td>\n",
       "      <td>46492.0</td>\n",
       "      <td>47436.0</td>\n",
       "      <td>45936.0</td>\n",
       "      <td>42587.0</td>\n",
       "      <td>0.0</td>\n",
       "    </tr>\n",
       "    <tr>\n",
       "      <th>1</th>\n",
       "      <td>46984.0</td>\n",
       "      <td>48765.0</td>\n",
       "      <td>59959.0</td>\n",
       "      <td>58477.0</td>\n",
       "      <td>55515.0</td>\n",
       "      <td>53376.0</td>\n",
       "      <td>44640.0</td>\n",
       "      <td>52050.0</td>\n",
       "      <td>59530.0</td>\n",
       "      <td>62684.0</td>\n",
       "      <td>...</td>\n",
       "      <td>41277.0</td>\n",
       "      <td>45600.0</td>\n",
       "      <td>48480.0</td>\n",
       "      <td>50275.0</td>\n",
       "      <td>47388.0</td>\n",
       "      <td>46534.0</td>\n",
       "      <td>47482.0</td>\n",
       "      <td>45998.0</td>\n",
       "      <td>42642.0</td>\n",
       "      <td>0.0</td>\n",
       "    </tr>\n",
       "    <tr>\n",
       "      <th>2</th>\n",
       "      <td>46976.0</td>\n",
       "      <td>48722.0</td>\n",
       "      <td>59945.0</td>\n",
       "      <td>58446.0</td>\n",
       "      <td>55474.0</td>\n",
       "      <td>53327.0</td>\n",
       "      <td>44588.0</td>\n",
       "      <td>52011.0</td>\n",
       "      <td>59506.0</td>\n",
       "      <td>62672.0</td>\n",
       "      <td>...</td>\n",
       "      <td>41226.0</td>\n",
       "      <td>45549.0</td>\n",
       "      <td>48432.0</td>\n",
       "      <td>50226.0</td>\n",
       "      <td>47353.0</td>\n",
       "      <td>46471.0</td>\n",
       "      <td>47421.0</td>\n",
       "      <td>45949.0</td>\n",
       "      <td>42590.0</td>\n",
       "      <td>0.0</td>\n",
       "    </tr>\n",
       "    <tr>\n",
       "      <th>3</th>\n",
       "      <td>46922.0</td>\n",
       "      <td>48621.0</td>\n",
       "      <td>59888.0</td>\n",
       "      <td>58360.0</td>\n",
       "      <td>55376.0</td>\n",
       "      <td>53224.0</td>\n",
       "      <td>44469.0</td>\n",
       "      <td>51923.0</td>\n",
       "      <td>59445.0</td>\n",
       "      <td>62629.0</td>\n",
       "      <td>...</td>\n",
       "      <td>41110.0</td>\n",
       "      <td>45438.0</td>\n",
       "      <td>48331.0</td>\n",
       "      <td>50115.0</td>\n",
       "      <td>47262.0</td>\n",
       "      <td>46374.0</td>\n",
       "      <td>47311.0</td>\n",
       "      <td>45832.0</td>\n",
       "      <td>42467.0</td>\n",
       "      <td>0.0</td>\n",
       "    </tr>\n",
       "    <tr>\n",
       "      <th>4</th>\n",
       "      <td>46845.0</td>\n",
       "      <td>48491.0</td>\n",
       "      <td>59807.0</td>\n",
       "      <td>58240.0</td>\n",
       "      <td>55256.0</td>\n",
       "      <td>53092.0</td>\n",
       "      <td>44325.0</td>\n",
       "      <td>51807.0</td>\n",
       "      <td>59337.0</td>\n",
       "      <td>62541.0</td>\n",
       "      <td>...</td>\n",
       "      <td>40977.0</td>\n",
       "      <td>45315.0</td>\n",
       "      <td>48208.0</td>\n",
       "      <td>49986.0</td>\n",
       "      <td>47151.0</td>\n",
       "      <td>46263.0</td>\n",
       "      <td>47180.0</td>\n",
       "      <td>45689.0</td>\n",
       "      <td>42322.0</td>\n",
       "      <td>0.0</td>\n",
       "    </tr>\n",
       "  </tbody>\n",
       "</table>\n",
       "<p>5 rows × 33 columns</p>\n",
       "</div>"
      ],
      "text/plain": [
       "       Fp1      Fp2      AFz       F7       F3       F4       F8      FC5  \\\n",
       "0  46949.0  48729.0  59912.0  58426.0  55468.0  53324.0  44591.0  52014.0   \n",
       "1  46984.0  48765.0  59959.0  58477.0  55515.0  53376.0  44640.0  52050.0   \n",
       "2  46976.0  48722.0  59945.0  58446.0  55474.0  53327.0  44588.0  52011.0   \n",
       "3  46922.0  48621.0  59888.0  58360.0  55376.0  53224.0  44469.0  51923.0   \n",
       "4  46845.0  48491.0  59807.0  58240.0  55256.0  53092.0  44325.0  51807.0   \n",
       "\n",
       "       FC1      FC2  ...       P4       P8      PO7       O1       Oz  \\\n",
       "0  59471.0  62621.0  ...  41227.0  45553.0  48458.0  50245.0  47341.0   \n",
       "1  59530.0  62684.0  ...  41277.0  45600.0  48480.0  50275.0  47388.0   \n",
       "2  59506.0  62672.0  ...  41226.0  45549.0  48432.0  50226.0  47353.0   \n",
       "3  59445.0  62629.0  ...  41110.0  45438.0  48331.0  50115.0  47262.0   \n",
       "4  59337.0  62541.0  ...  40977.0  45315.0  48208.0  49986.0  47151.0   \n",
       "\n",
       "        O2      PO8      PO9     PO10  Target  \n",
       "0  46492.0  47436.0  45936.0  42587.0     0.0  \n",
       "1  46534.0  47482.0  45998.0  42642.0     0.0  \n",
       "2  46471.0  47421.0  45949.0  42590.0     0.0  \n",
       "3  46374.0  47311.0  45832.0  42467.0     0.0  \n",
       "4  46263.0  47180.0  45689.0  42322.0     0.0  \n",
       "\n",
       "[5 rows x 33 columns]"
      ]
     },
     "execution_count": 13,
     "metadata": {},
     "output_type": "execute_result"
    }
   ],
   "source": [
    "df.head()"
   ]
  },
  {
   "cell_type": "code",
   "execution_count": 14,
   "metadata": {
    "id": "C738rpLP4RpL"
   },
   "outputs": [
    {
     "data": {
      "text/plain": [
       "Index(['Fp1', 'Fp2', 'AFz', 'F7', 'F3', 'F4', 'F8', 'FC5', 'FC1', 'FC2', 'FC6',\n",
       "       'T7', 'C3', 'Cz', 'C4', 'T8', 'CP5', 'CP1', 'CP2', 'CP6', 'P7', 'P3',\n",
       "       'Pz', 'P4', 'P8', 'PO7', 'O1', 'Oz', 'O2', 'PO8', 'PO9', 'PO10',\n",
       "       'Target'],\n",
       "      dtype='object')"
      ]
     },
     "execution_count": 14,
     "metadata": {},
     "output_type": "execute_result"
    }
   ],
   "source": [
    "df.columns"
   ]
  },
  {
   "cell_type": "code",
   "execution_count": 15,
   "metadata": {
    "id": "xGGNzktpsTH8"
   },
   "outputs": [],
   "source": [
    "# def data_to_raw(df):\n",
    "  \n",
    "#     ch_types = ['eeg'] * (len(header) - 1) + ['stim'] \n",
    "#     montage = mne.channels.make_standard_montage('standard_1020') \n",
    "#     df = df.T\n",
    "#     df[:-1] *= 1e-6  \n",
    "#     info = create_info(ch_names=header, ch_types=ch_types, sfreq=512)\n",
    "#     raw = mne.io.RawArray(df, info)\n",
    "#     raw.set_montage(montage)\n",
    "#     return raw\n",
    "def df_to_raw(df):\n",
    "    \n",
    "    sfreq = 512  # according to the experiment\n",
    "    ch_names = list(df.columns)\n",
    "    ch_types = ['eeg'] * (len(df.columns) - 1) + ['stim'] \n",
    "    ten_twenty_montage = mne.channels.make_standard_montage('standard_1020')\n",
    "\n",
    "    df = df.T  #mne looks at the tranpose() format\n",
    "    df[:-1] *= 1e-6  #convert from uVolts to Volts (mne assumes Volts data)\n",
    "\n",
    "    info = create_info(ch_names=ch_names, ch_types=ch_types, sfreq=sfreq)\n",
    "\n",
    "    raw = mne.io.RawArray(df, info)\n",
    "    raw.set_montage(ten_twenty_montage)\n",
    "\n",
    "    #try plotting the raw data of its power spectral density\n",
    "    # raw.plot()\n",
    "    # raw.plot_psd()\n",
    "\n",
    "    return raw"
   ]
  },
  {
   "cell_type": "code",
   "execution_count": 16,
   "metadata": {
    "id": "MkBxNZskv9yO"
   },
   "outputs": [
    {
     "name": "stdout",
     "output_type": "stream",
     "text": [
      "Creating RawArray with float64 data, n_channels=33, n_times=566110\n",
      "    Range : 0 ... 566109 =      0.000 ...  1105.682 secs\n",
      "Ready.\n"
     ]
    }
   ],
   "source": [
    "raw_mne = df_to_raw(df)"
   ]
  },
  {
   "cell_type": "code",
   "execution_count": 17,
   "metadata": {
    "id": "u2728HiswNep"
   },
   "outputs": [
    {
     "name": "stdout",
     "output_type": "stream",
     "text": [
      "Effective window size : 4.000 (s)\n"
     ]
    },
    {
     "data": {
      "image/png": "[encoded data removed]",
      "text/plain": [
       "<MNELineFigure size 720x252 with 2 Axes>"
      ]
     },
     "metadata": {
      "needs_background": "light"
     },
     "output_type": "display_data"
    },
    {
     "data": {
      "image/png": "[encoded data removed]",
      "text/plain": [
       "<MNELineFigure size 720x252 with 2 Axes>"
      ]
     },
     "execution_count": 17,
     "metadata": {},
     "output_type": "execute_result"
    }
   ],
   "source": [
    "raw_mne.plot_psd()"
   ]
  },
  {
   "cell_type": "code",
   "execution_count": 18,
   "metadata": {
    "id": "3iQrfKL7w6UN"
   },
   "outputs": [
    {
     "name": "stdout",
     "output_type": "stream",
     "text": [
      "Setting up band-stop filter\n",
      "\n",
      "FIR filter parameters\n",
      "---------------------\n",
      "Designing a one-pass, zero-phase, non-causal bandstop filter:\n",
      "- Windowed time-domain design (firwin) method\n",
      "- Hamming window with 0.0194 passband ripple and 53 dB stopband attenuation\n",
      "- Lower transition bandwidth: 0.50 Hz\n",
      "- Upper transition bandwidth: 0.50 Hz\n",
      "- Filter length: 3381 samples (6.604 sec)\n",
      "\n",
      "Effective window size : 4.000 (s)\n"
     ]
    },
    {
     "data": {
      "image/png": "[encoded data removed]",
      "text/plain": [
       "<MNELineFigure size 720x252 with 2 Axes>"
      ]
     },
     "metadata": {
      "needs_background": "light"
     },
     "output_type": "display_data"
    },
    {
     "data": {
      "image/png": "[encoded data removed]",
      "text/plain": [
       "<MNELineFigure size 720x252 with 2 Axes>"
      ]
     },
     "execution_count": 18,
     "metadata": {},
     "output_type": "execute_result"
    }
   ],
   "source": [
    "raw_mne.notch_filter(np.arange(50, 260, 50),filter_length='auto', phase='zero')\n",
    "raw_mne.plot_psd()"
   ]
  },
  {
   "cell_type": "code",
   "execution_count": 19,
   "metadata": {
    "id": "PRUCzirS25C3"
   },
   "outputs": [
    {
     "name": "stdout",
     "output_type": "stream",
     "text": [
      "Filtering raw data in 1 contiguous segment\n",
      "Setting up band-pass filter from 0.1 - 20 Hz\n",
      "\n",
      "IIR filter parameters\n",
      "---------------------\n",
      "Butterworth bandpass zero-phase (two-pass forward and reverse) non-causal filter:\n",
      "- Filter order 16 (effective, after forward-backward)\n",
      "- Cutoffs at 0.10, 20.00 Hz: -6.02, -6.02 dB\n",
      "\n",
      "Effective window size : 4.000 (s)\n"
     ]
    },
    {
     "data": {
      "image/png": "[encoded data removed]",
      "text/plain": [
       "<MNELineFigure size 720x252 with 2 Axes>"
      ]
     },
     "metadata": {
      "needs_background": "light"
     },
     "output_type": "display_data"
    },
    {
     "data": {
      "image/png": "[encoded data removed]",
      "text/plain": [
       "<MNELineFigure size 720x252 with 2 Axes>"
      ]
     },
     "execution_count": 19,
     "metadata": {},
     "output_type": "execute_result"
    }
   ],
   "source": [
    "raw_mne.filter(0.1,20, method = 'iir')\n",
    "raw_mne.plot_psd(fmax=50)"
   ]
  },
  {
   "cell_type": "code",
   "execution_count": 20,
   "metadata": {
    "id": "BPVKlGO_3moh"
   },
   "outputs": [],
   "source": [
    "from mne import Epochs, find_events\n",
    "\n",
    "def getEpochs(raw, event_id, tmin, tmax, picks):\n",
    "\n",
    "    #epoching\n",
    "    events = find_events(raw)\n",
    "    \n",
    "\n",
    "    reject_criteria = dict(eeg=100e-6)  #most voltage in this range is not brain components\n",
    "\n",
    "    epochs = Epochs(raw, events=events, event_id=event_id, \n",
    "                    tmin=tmin, tmax=tmax, baseline=None, preload=True,verbose=False, picks=picks)  #8 channels\n",
    "    print('sample drop %: ', (1 - len(epochs.events)/len(events)) * 100)\n",
    "\n",
    "    return epochs"
   ]
  },
  {
   "cell_type": "code",
   "execution_count": 49,
   "metadata": {
    "id": "nku75G4h9Eh1"
   },
   "outputs": [
    {
     "name": "stdout",
     "output_type": "stream",
     "text": [
      "876 events found\n",
      "Event IDs: [1 2]\n",
      "sample drop %:  0.0\n"
     ]
    }
   ],
   "source": [
    "event_id = {'Non-Target' : 1, \"Target\" : 2}\n",
    "tmin = 0\n",
    "tmax = 0.667\n",
    "picks = mne.pick_types(raw_mne.info,eeg=True)\n",
    "epochs = getEpochs(raw_mne, event_id, tmin, tmax, picks)"
   ]
  },
  {
   "cell_type": "code",
   "execution_count": 50,
   "metadata": {
    "id": "u59ar_ey9Kwv"
   },
   "outputs": [
    {
     "name": "stdout",
     "output_type": "stream",
     "text": [
      "(876, 32, 343)\n",
      "(876,)\n",
      "[1 1 1 1 1 2 1 2 1 1 1 1 1 1 2 1 1 1 2 1 1 1 1 1 2 1 1 1 1 1 1 1 1 1 1 2 1\n",
      " 1 1 1 2 1 1 1 1 1 1 2 1 1 1 1 2 1 1 1 1 1 1 2 1 1 1 1 1 2 1 1 1 1 2 1 1 1\n",
      " 2 1 1 1 1 1 1 2 1 1 1 1 2 1 1 1 1 1 2 1 1 1 1 1 1 1 1 2 1 1 1 1 2 1 2 1 1\n",
      " 1 1 1 1 1 2 1 1 1 1 1 2 1 1 1 2 1 1 1 1 1 1 1 1 2 1 1 1 1 1 1 2 1 1 1 2 1\n",
      " 1 1 1 1 1 2 1 1 1 1 1 2 1 1 2 1 1 1 1 1 1 1 1 2 1 1 1 1 1 2 1 1 2 1 1 1 1\n",
      " 1 1 1 1 1 1 2 1 1 1 2 1 1 1 2 1 1 1 1 1 1 1 1 1 2 1 1 2 1 1 1 1 1 1 1 2 1\n",
      " 1 1 1 2 1 1 1 1 1 1 1 2 1 2 1 1 1 1 1 1 1 2 1 1 1 1 1 1 1 2 1 1 2 1 1 1 1\n",
      " 1 1 1 2 1 1 1 1 1 1 2 1 1 1 1 2 1 2 1 1 1 1 1 1 1 2 1 1 1 1 1 1 2 1 1 2 1\n",
      " 1 1 1 1 1 1 1 1 1 2 2 1 1 1 1 1 1 1 2 1 1 1 1 1 1 1 2 1 1 2 1 1 1 1 1 1 1\n",
      " 2 1 1 1 1 1 1 1 2 1 1 2 1 1 1 1 1 1 1 2 1 2 1 1 1 1 1 1 1 1 2 1 1 1 2 1 1\n",
      " 1 1 1 1 1 2 1 1 2 1 1 1 1 1 1 1 1 1 2 1 1 1 1 2 1 1 1 1 1 2 1 1 1 1 2 1 1\n",
      " 1 1 1 1 1 2 1 1 1 1 1 1 2 1 1 1 1 2 1 2 1 1 1 1 1 1 1 1 2 1 1 2 1 1 1 1 1\n",
      " 1 1 2 1 1 1 2 1 1 1 1 1 1 1 1 2 1 1 1 1 2 1 1 1 1 2 1 1 1 1 1 1 1 2 1 1 1\n",
      " 1 1 1 1 2 1 2 1 1 1 1 2 1 1 1 1 1 1 1 1 1 2 1 1 1 1 1 2 1 1 1 1 2 1 1 2 1\n",
      " 1 1 1 1 1 1 1 1 2 1 1 1 1 1 1 2 1 1 1 1 2 1 1 2 1 1 1 1 2 1 1 1 1 1 1 2 1\n",
      " 1 1 1 1 1 1 1 1 2 1 1 1 2 1 1 2 1 1 1 1 1 1 1 1 2 1 1 1 1 1 1 2 1 1 1 1 2\n",
      " 1 1 1 1 2 1 1 1 2 1 1 1 1 1 1 2 1 1 1 1 1 1 1 1 1 2 1 2 1 1 1 1 1 1 1 1 2\n",
      " 1 2 1 1 1 1 1 1 2 1 1 1 1 1 1 1 1 2 1 1 1 1 1 1 2 1 1 1 1 2 1 1 1 1 1 2 1\n",
      " 1 1 1 1 2 1 1 1 1 2 1 1 1 1 1 2 1 1 1 1 1 1 2 1 1 1 1 1 1 2 1 1 1 1 2 1 1\n",
      " 1 1 1 1 2 2 1 1 1 1 1 1 1 1 2 1 1 1 1 1 1 1 2 1 1 1 1 2 1 2 1 1 1 1 1 1 1\n",
      " 2 1 1 1 1 1 1 1 2 1 1 1 1 1 2 1 1 1 2 1 1 1 2 1 1 1 1 1 1 1 1 1 1 2 1 1 1\n",
      " 1 2 1 1 2 1 1 1 1 1 1 1 1 1 2 1 1 2 1 1 1 1 2 1 1 1 1 1 1 1 1 2 1 2 1 1 1\n",
      " 1 1 1 1 1 1 2 1 1 1 1 2 1 1 2 1 1 1 1 1 1 1 2 1 1 1 2 1 1 1 1 1 1 1 1 1 1\n",
      " 2 1 1 2 1 1 1 1 1 1 1 1 2 1 1 2 1 1 1 1 1 1 2 1 1]\n"
     ]
    }
   ],
   "source": [
    "X = epochs.get_data()\n",
    "y = epochs.events[:, -1]\n",
    "\n",
    "print(X.shape)\n",
    "print(y.shape)\n",
    "print(y)"
   ]
  },
  {
   "cell_type": "code",
   "execution_count": 51,
   "metadata": {},
   "outputs": [
    {
     "name": "stdout",
     "output_type": "stream",
     "text": [
      "[0 0 0 0 0 1 0 1 0 0 0 0 0 0 1 0 0 0 1 0 0 0 0 0 1 0 0 0 0 0 0 0 0 0 0 1 0\n",
      " 0 0 0 1 0 0 0 0 0 0 1 0 0 0 0 1 0 0 0 0 0 0 1 0 0 0 0 0 1 0 0 0 0 1 0 0 0\n",
      " 1 0 0 0 0 0 0 1 0 0 0 0 1 0 0 0 0 0 1 0 0 0 0 0 0 0 0 1 0 0 0 0 1 0 1 0 0\n",
      " 0 0 0 0 0 1 0 0 0 0 0 1 0 0 0 1 0 0 0 0 0 0 0 0 1 0 0 0 0 0 0 1 0 0 0 1 0\n",
      " 0 0 0 0 0 1 0 0 0 0 0 1 0 0 1 0 0 0 0 0 0 0 0 1 0 0 0 0 0 1 0 0 1 0 0 0 0\n",
      " 0 0 0 0 0 0 1 0 0 0 1 0 0 0 1 0 0 0 0 0 0 0 0 0 1 0 0 1 0 0 0 0 0 0 0 1 0\n",
      " 0 0 0 1 0 0 0 0 0 0 0 1 0 1 0 0 0 0 0 0 0 1 0 0 0 0 0 0 0 1 0 0 1 0 0 0 0\n",
      " 0 0 0 1 0 0 0 0 0 0 1 0 0 0 0 1 0 1 0 0 0 0 0 0 0 1 0 0 0 0 0 0 1 0 0 1 0\n",
      " 0 0 0 0 0 0 0 0 0 1 1 0 0 0 0 0 0 0 1 0 0 0 0 0 0 0 1 0 0 1 0 0 0 0 0 0 0\n",
      " 1 0 0 0 0 0 0 0 1 0 0 1 0 0 0 0 0 0 0 1 0 1 0 0 0 0 0 0 0 0 1 0 0 0 1 0 0\n",
      " 0 0 0 0 0 1 0 0 1 0 0 0 0 0 0 0 0 0 1 0 0 0 0 1 0 0 0 0 0 1 0 0 0 0 1 0 0\n",
      " 0 0 0 0 0 1 0 0 0 0 0 0 1 0 0 0 0 1 0 1 0 0 0 0 0 0 0 0 1 0 0 1 0 0 0 0 0\n",
      " 0 0 1 0 0 0 1 0 0 0 0 0 0 0 0 1 0 0 0 0 1 0 0 0 0 1 0 0 0 0 0 0 0 1 0 0 0\n",
      " 0 0 0 0 1 0 1 0 0 0 0 1 0 0 0 0 0 0 0 0 0 1 0 0 0 0 0 1 0 0 0 0 1 0 0 1 0\n",
      " 0 0 0 0 0 0 0 0 1 0 0 0 0 0 0 1 0 0 0 0 1 0 0 1 0 0 0 0 1 0 0 0 0 0 0 1 0\n",
      " 0 0 0 0 0 0 0 0 1 0 0 0 1 0 0 1 0 0 0 0 0 0 0 0 1 0 0 0 0 0 0 1 0 0 0 0 1\n",
      " 0 0 0 0 1 0 0 0 1 0 0 0 0 0 0 1 0 0 0 0 0 0 0 0 0 1 0 1 0 0 0 0 0 0 0 0 1\n",
      " 0 1 0 0 0 0 0 0 1 0 0 0 0 0 0 0 0 1 0 0 0 0 0 0 1 0 0 0 0 1 0 0 0 0 0 1 0\n",
      " 0 0 0 0 1 0 0 0 0 1 0 0 0 0 0 1 0 0 0 0 0 0 1 0 0 0 0 0 0 1 0 0 0 0 1 0 0\n",
      " 0 0 0 0 1 1 0 0 0 0 0 0 0 0 1 0 0 0 0 0 0 0 1 0 0 0 0 1 0 1 0 0 0 0 0 0 0\n",
      " 1 0 0 0 0 0 0 0 1 0 0 0 0 0 1 0 0 0 1 0 0 0 1 0 0 0 0 0 0 0 0 0 0 1 0 0 0\n",
      " 0 1 0 0 1 0 0 0 0 0 0 0 0 0 1 0 0 1 0 0 0 0 1 0 0 0 0 0 0 0 0 1 0 1 0 0 0\n",
      " 0 0 0 0 0 0 1 0 0 0 0 1 0 0 1 0 0 0 0 0 0 0 1 0 0 0 1 0 0 0 0 0 0 0 0 0 0\n",
      " 1 0 0 1 0 0 0 0 0 0 0 0 1 0 0 1 0 0 0 0 0 0 1 0 0]\n"
     ]
    }
   ],
   "source": [
    "y[np.where(y==1.)] = 0.\n",
    "y[np.where(y==2.)] = 1.\n",
    "print(y)"
   ]
  },
  {
   "cell_type": "code",
   "execution_count": 52,
   "metadata": {
    "id": "qcO-euJS9dfx"
   },
   "outputs": [
    {
     "name": "stdout",
     "output_type": "stream",
     "text": [
      "X_train.shape (700, 32, 343)\n",
      "X_test.shape (176, 32, 343)\n",
      "y_train.shape (700,)\n",
      "y_test.shape (176,)\n"
     ]
    }
   ],
   "source": [
    "from sklearn.model_selection import train_test_split\n",
    "\n",
    "X_train, X_test, y_train, y_test = train_test_split(X, y, test_size = 0.2, random_state = 27)\n",
    "print(\"X_train.shape\", X_train.shape)\n",
    "print(\"X_test.shape\", X_test.shape)\n",
    "print(\"y_train.shape\", y_train.shape)\n",
    "print(\"y_test.shape\", y_test.shape)"
   ]
  },
  {
   "cell_type": "code",
   "execution_count": 53,
   "metadata": {
    "id": "3epcatwdBASI"
   },
   "outputs": [],
   "source": [
    "import torch\n",
    "import torch.nn as nn\n",
    "from torch.utils.data import TensorDataset\n",
    "from torch.utils.data import DataLoader"
   ]
  },
  {
   "cell_type": "code",
   "execution_count": 54,
   "metadata": {
    "id": "S9aG8ZJrG3X3"
   },
   "outputs": [
    {
     "name": "stdout",
     "output_type": "stream",
     "text": [
      "cuda\n"
     ]
    }
   ],
   "source": [
    "device = torch.device('cuda' if torch.cuda.is_available() else 'cpu')\n",
    "print(device)"
   ]
  },
  {
   "cell_type": "code",
   "execution_count": 55,
   "metadata": {
    "id": "Ha40ZutqBfm8"
   },
   "outputs": [],
   "source": [
    "X_train_ts = torch.Tensor(X_train)\n",
    "y_train_ts = torch.Tensor(y_train)\n",
    "y_train_ts = y_train_ts.unsqueeze(1)\n",
    "X_test_ts = torch.Tensor(X_test)\n",
    "y_test_ts = torch.Tensor(y_test)\n",
    "y_test_ts = y_test_ts.unsqueeze(1)"
   ]
  },
  {
   "cell_type": "code",
   "execution_count": 56,
   "metadata": {
    "id": "fWZTrU2KB45j"
   },
   "outputs": [
    {
     "name": "stdout",
     "output_type": "stream",
     "text": [
      "X_train_ts.shape torch.Size([700, 32, 343])\n",
      "X_test_ts.shape torch.Size([176, 32, 343])\n",
      "y_train_ts.shape torch.Size([700, 1])\n",
      "y_test_ts.shape torch.Size([176, 1])\n"
     ]
    }
   ],
   "source": [
    "print(\"X_train_ts.shape\", X_train_ts.shape)\n",
    "print(\"X_test_ts.shape\", X_test_ts.shape)\n",
    "print(\"y_train_ts.shape\", y_train_ts.shape)\n",
    "print(\"y_test_ts.shape\", y_test_ts.shape)"
   ]
  },
  {
   "cell_type": "code",
   "execution_count": 57,
   "metadata": {
    "id": "G1Kq9QEQCJEl"
   },
   "outputs": [
    {
     "name": "stdout",
     "output_type": "stream",
     "text": [
      "(tensor([[[-1.5260e-05, -1.5290e-05, -1.5314e-05,  ..., -5.4216e-06,\n",
      "          -5.5867e-06, -5.8455e-06],\n",
      "         [-6.0293e-06, -6.1560e-06, -6.3012e-06,  ..., -1.0334e-06,\n",
      "          -8.7321e-07, -8.2054e-07],\n",
      "         [-1.2524e-05, -1.3073e-05, -1.3639e-05,  ..., -6.9280e-07,\n",
      "          -5.5180e-07, -5.0341e-07],\n",
      "         ...,\n",
      "         [-4.9595e-06, -5.1100e-06, -5.2512e-06,  ...,  3.0143e-06,\n",
      "           3.2555e-06,  3.4465e-06],\n",
      "         [-4.8802e-06, -4.7299e-06, -4.5654e-06,  ..., -2.7375e-06,\n",
      "          -2.9082e-06, -3.1736e-06],\n",
      "         [-3.2693e-06, -3.2309e-06, -3.2165e-06,  ...,  3.2849e-06,\n",
      "           3.4736e-06,  3.5498e-06]],\n",
      "\n",
      "        [[-1.6482e-05, -1.5791e-05, -1.5030e-05,  ..., -2.5540e-05,\n",
      "          -2.4433e-05, -2.3220e-05],\n",
      "         [ 2.2845e-06,  2.7963e-06,  3.3378e-06,  ..., -1.2956e-05,\n",
      "          -1.2198e-05, -1.1310e-05],\n",
      "         [-1.1448e-05, -1.0588e-05, -9.6802e-06,  ..., -1.2857e-05,\n",
      "          -1.1938e-05, -1.0912e-05],\n",
      "         ...,\n",
      "         [-1.2178e-05, -1.2073e-05, -1.1954e-05,  ..., -1.1944e-05,\n",
      "          -1.1714e-05, -1.1381e-05],\n",
      "         [-5.2451e-06, -5.0131e-06, -4.8514e-06,  ..., -1.3836e-05,\n",
      "          -1.3663e-05, -1.3357e-05],\n",
      "         [-6.4730e-06, -6.6713e-06, -6.8744e-06,  ..., -1.2275e-05,\n",
      "          -1.1917e-05, -1.1451e-05]],\n",
      "\n",
      "        [[ 4.9431e-06,  5.3764e-06,  5.6956e-06,  ...,  1.3481e-05,\n",
      "           1.4300e-05,  1.5189e-05],\n",
      "         [ 2.6697e-06,  2.9104e-06,  3.0575e-06,  ...,  4.5192e-06,\n",
      "           4.9874e-06,  5.4828e-06],\n",
      "         [ 1.6714e-05,  1.6803e-05,  1.6763e-05,  ..., -1.7081e-06,\n",
      "          -6.0936e-07,  5.7791e-07],\n",
      "         ...,\n",
      "         [-6.1220e-07, -1.2228e-06, -1.7699e-06,  ..., -8.5842e-06,\n",
      "          -9.1170e-06, -9.5182e-06],\n",
      "         [-8.9282e-06, -8.6310e-06, -8.3197e-06,  ..., -6.3918e-06,\n",
      "          -7.0245e-06, -7.5757e-06],\n",
      "         [-1.0810e-05, -1.0910e-05, -1.1067e-05,  ..., -1.2932e-05,\n",
      "          -1.3109e-05, -1.3172e-05]]]), tensor([[0.],\n",
      "        [0.],\n",
      "        [0.]]))\n",
      "(tensor([[[-1.2740e-05, -1.1735e-05, -1.0928e-05,  ..., -2.0521e-05,\n",
      "          -2.0488e-05, -2.0500e-05],\n",
      "         [-1.5055e-06, -4.9234e-07,  2.4475e-07,  ..., -1.8076e-05,\n",
      "          -1.8143e-05, -1.8121e-05],\n",
      "         [-1.0382e-06,  5.0506e-07,  1.7568e-06,  ..., -1.8088e-05,\n",
      "          -1.8073e-05, -1.8016e-05],\n",
      "         ...,\n",
      "         [-1.5650e-06, -1.2253e-06, -8.7066e-07,  ...,  1.2576e-06,\n",
      "           1.0658e-06,  8.7210e-07],\n",
      "         [-2.0586e-05, -2.0161e-05, -1.9842e-05,  ..., -1.7072e-05,\n",
      "          -1.7323e-05, -1.7576e-05],\n",
      "         [-8.8863e-06, -8.9611e-06, -9.1551e-06,  ..., -1.1785e-05,\n",
      "          -1.1700e-05, -1.1522e-05]],\n",
      "\n",
      "        [[-1.4223e-06, -1.5695e-06, -1.5499e-06,  ..., -1.5685e-05,\n",
      "          -1.5770e-05, -1.5712e-05],\n",
      "         [-2.4554e-05, -2.4246e-05, -2.3726e-05,  ..., -2.7181e-05,\n",
      "          -2.7119e-05, -2.6773e-05],\n",
      "         [-3.0908e-05, -3.0675e-05, -3.0258e-05,  ..., -2.8000e-05,\n",
      "          -2.8552e-05, -2.8919e-05],\n",
      "         ...,\n",
      "         [-1.7761e-05, -1.7779e-05, -1.7621e-05,  ...,  4.8961e-06,\n",
      "           4.9566e-06,  5.0606e-06],\n",
      "         [-1.6952e-05, -1.6605e-05, -1.6362e-05,  ..., -2.5122e-06,\n",
      "          -2.4574e-06, -2.2990e-06],\n",
      "         [-2.5270e-05, -2.4817e-05, -2.4517e-05,  ...,  3.9559e-06,\n",
      "           4.2124e-06,  4.4945e-06]],\n",
      "\n",
      "        [[ 3.2010e-05,  3.1450e-05,  3.0848e-05,  ..., -6.2123e-07,\n",
      "          -1.1526e-06, -1.5731e-06],\n",
      "         [ 3.1914e-05,  3.1695e-05,  3.1491e-05,  ...,  7.3442e-06,\n",
      "           6.9365e-06,  6.5647e-06],\n",
      "         [ 2.5173e-05,  2.4787e-05,  2.4386e-05,  ..., -5.0329e-06,\n",
      "          -5.5918e-06, -6.0640e-06],\n",
      "         ...,\n",
      "         [-3.5382e-06, -3.6659e-06, -3.8921e-06,  ..., -2.0060e-06,\n",
      "          -1.6054e-06, -1.1589e-06],\n",
      "         [-5.1508e-06, -5.9120e-06, -6.6954e-06,  ...,  1.3450e-06,\n",
      "           9.8463e-07,  7.5276e-07],\n",
      "         [-6.2423e-06, -6.7838e-06, -7.3871e-06,  ..., -5.1932e-06,\n",
      "          -5.7224e-06, -6.2029e-06]]]), tensor([[0.],\n",
      "        [0.],\n",
      "        [0.]]))\n"
     ]
    }
   ],
   "source": [
    "train_ds = TensorDataset(X_train_ts, y_train_ts)\n",
    "test_ds = TensorDataset(X_test_ts, y_test_ts)\n",
    "print(train_ds[0:3])\n",
    "print(test_ds[0:3])"
   ]
  },
  {
   "cell_type": "code",
   "execution_count": 58,
   "metadata": {
    "id": "eC2sr94YCT4n"
   },
   "outputs": [],
   "source": [
    "batch_size = 64\n",
    "train_dl = DataLoader(train_ds, batch_size= batch_size, shuffle = True)\n",
    "test_dl = DataLoader(test_ds, batch_size= batch_size, shuffle = False)"
   ]
  },
  {
   "cell_type": "code",
   "execution_count": 59,
   "metadata": {
    "id": "ODZG4XENCtzf"
   },
   "outputs": [
    {
     "name": "stdout",
     "output_type": "stream",
     "text": [
      "1\n",
      "2\n",
      "3\n"
     ]
    }
   ],
   "source": [
    "i = 0\n",
    "\n",
    "for xb, yb in test_dl:\n",
    "    i+=1\n",
    "    print(i)"
   ]
  },
  {
   "cell_type": "code",
   "execution_count": 60,
   "metadata": {
    "id": "IJf6nVpSDkFL"
   },
   "outputs": [],
   "source": [
    "class CNN(nn.Module):\n",
    "    def __init__(self,num_classes):\n",
    "        super(CNN, self).__init__()\n",
    "        \n",
    "        #Layer 0\n",
    "        self.layer0 = nn.BatchNorm1d(32)\n",
    "        \n",
    "        #Layer 1\n",
    "        self.layer1 = nn.Sequential(\n",
    "                    nn.Conv1d(32,16, kernel_size = 1),\n",
    "                    nn.ReLU())\n",
    "        \n",
    "        #Layer2\n",
    "        self.layer2 = nn.Sequential(\n",
    "                    nn.Conv1d(16,16 , kernel_size = 20, stride = 20),\n",
    "                    nn.BatchNorm1d(16),\n",
    "                    nn.ReLU())\n",
    "        \n",
    "        #Layer3\n",
    "        self.fc1 = nn.Sequential(\n",
    "                    nn.Flatten(),\n",
    "                    nn.Linear( 272, 128),\n",
    "                    nn.Tanh(),\n",
    "                    nn.Dropout(0.8 ))\n",
    "        #Layer4\n",
    "        self.fc2 = nn.Sequential(\n",
    "                    nn.Linear(128 , 128),\n",
    "                    nn.Tanh(),\n",
    "                    nn.Dropout(0.8))\n",
    "        \n",
    "        #Layer5\n",
    "        self.fc3 = nn.Sequential(nn.Linear(128 , 1),nn.Sigmoid())\n",
    "    \n",
    "    \n",
    "    def forward(self, x):\n",
    "        out = self.layer0(x)\n",
    "        out = self.layer1(out)\n",
    "        out = self.layer2(out)\n",
    "        out = self.fc1(out)\n",
    "        out = self.fc2(out)\n",
    "        out = self.fc3(out)\n",
    "        return out"
   ]
  },
  {
   "cell_type": "code",
   "execution_count": 61,
   "metadata": {
    "id": "X5pOr6gwGPQG"
   },
   "outputs": [],
   "source": [
    "learning_rate=0.001\n",
    "epoches = 8"
   ]
  },
  {
   "cell_type": "code",
   "execution_count": 62,
   "metadata": {
    "id": "ief2zi7OFT9K"
   },
   "outputs": [],
   "source": [
    "model = CNN(num_classes=2).to(device)\n",
    "criterion = nn.BCELoss()\n",
    "optimizer = torch.optim.Adam(model.parameters(), lr=learning_rate)"
   ]
  },
  {
   "cell_type": "code",
   "execution_count": 63,
   "metadata": {
    "id": "uS-hWU4zGhX4"
   },
   "outputs": [
    {
     "name": "stdout",
     "output_type": "stream",
     "text": [
      "CNN(\n",
      "  (layer0): BatchNorm1d(32, eps=1e-05, momentum=0.1, affine=True, track_running_stats=True)\n",
      "  (layer1): Sequential(\n",
      "    (0): Conv1d(32, 16, kernel_size=(1,), stride=(1,))\n",
      "    (1): ReLU()\n",
      "  )\n",
      "  (layer2): Sequential(\n",
      "    (0): Conv1d(16, 16, kernel_size=(20,), stride=(20,))\n",
      "    (1): BatchNorm1d(16, eps=1e-05, momentum=0.1, affine=True, track_running_stats=True)\n",
      "    (2): ReLU()\n",
      "  )\n",
      "  (fc1): Sequential(\n",
      "    (0): Flatten(start_dim=1, end_dim=-1)\n",
      "    (1): Linear(in_features=272, out_features=128, bias=True)\n",
      "    (2): Tanh()\n",
      "    (3): Dropout(p=0.8, inplace=False)\n",
      "  )\n",
      "  (fc2): Sequential(\n",
      "    (0): Linear(in_features=128, out_features=128, bias=True)\n",
      "    (1): Tanh()\n",
      "    (2): Dropout(p=0.8, inplace=False)\n",
      "  )\n",
      "  (fc3): Sequential(\n",
      "    (0): Linear(in_features=128, out_features=1, bias=True)\n",
      "    (1): Sigmoid()\n",
      "  )\n",
      ")\n"
     ]
    }
   ],
   "source": [
    "print(model)"
   ]
  },
  {
   "cell_type": "code",
   "execution_count": 64,
   "metadata": {
    "id": "Cbsm-_Z-Hghs"
   },
   "outputs": [
    {
     "name": "stdout",
     "output_type": "stream",
     "text": [
      "Epoch [50/50], Step [11/11], Loss: 0.0115"
     ]
    }
   ],
   "source": [
    "# import sys\n",
    "# model.train()\n",
    "# losses = []\n",
    "# epoches = 50\n",
    "# total_step = len(train_dl)\n",
    "# for epoch in range(epoches):\n",
    "#     for i, (xb,yb) in enumerate(train_dl):\n",
    "        \n",
    "#         #con2d expects (batch, channel, width, height)\n",
    "#         xb = xb.to(device)\n",
    "#         yb = yb.to(device)\n",
    "        \n",
    "#         #print(images.size())\n",
    "#         #print(labels.size())\n",
    "        \n",
    "#         # Forward pass\n",
    "#         outputs = model(xb)\n",
    "#         loss = criterion(outputs, yb)\n",
    "#         losses.append(loss)\n",
    "        \n",
    "#         # Backward and optimize\n",
    "#         optimizer.zero_grad()\n",
    "#         loss.backward()\n",
    "#         optimizer.step()\n",
    "        \n",
    "#         if (i+1) % 1 == 0:\n",
    "#             sys.stdout.write ('\\rEpoch [{}/{}], Step [{}/{}], Loss: {:.4f}' \n",
    "#                    .format(epoch+1, epoches, i+1, total_step, loss.item()))"
   ]
  },
  {
   "cell_type": "code",
   "execution_count": 65,
   "metadata": {
    "id": "LOatUx6wIJFo"
   },
   "outputs": [
    {
     "data": {
      "text/plain": [
       "[<matplotlib.lines.Line2D at 0x27bb07342b0>]"
      ]
     },
     "execution_count": 65,
     "metadata": {},
     "output_type": "execute_result"
    },
    {
     "data": {
      "image/png": "[encoded data removed]",
      "text/plain": [
       "<Figure size 432x288 with 1 Axes>"
      ]
     },
     "metadata": {
      "needs_background": "light"
     },
     "output_type": "display_data"
    }
   ],
   "source": [
    "# plt.plot(np.arange(len(losses)), losses)"
   ]
  },
  {
   "cell_type": "code",
   "execution_count": 68,
   "metadata": {
    "id": "pT_fJsvrJ6z5"
   },
   "outputs": [
    {
     "name": "stdout",
     "output_type": "stream",
     "text": [
      "tensor([0, 0, 0, 0, 0, 0, 0, 0, 0, 0, 0, 0, 0, 0, 0, 0, 0, 0, 0, 0, 0, 0, 0, 0,\n",
      "        0, 0, 0, 0, 0, 0, 0, 0, 0, 0, 0, 0, 0, 0, 0, 0, 0, 0, 0, 0, 0, 0, 0, 0,\n",
      "        0, 0, 0, 0, 0, 0, 0, 0, 0, 0, 0, 0, 0, 0, 0, 0], device='cuda:0')\n",
      "tensor([0, 0, 0, 0, 0, 0, 0, 0, 0, 0, 0, 0, 0, 0, 0, 0, 0, 0, 0, 0, 0, 0, 0, 0,\n",
      "        0, 0, 0, 0, 0, 0, 0, 0, 0, 0, 0, 0, 0, 0, 0, 0, 0, 0, 0, 0, 0, 0, 0, 0,\n",
      "        0, 0, 0, 0, 0, 0, 0, 0, 0, 0, 0, 0, 0, 0, 0, 0], device='cuda:0')\n",
      "tensor([0, 0, 0, 0, 0, 0, 0, 0, 0, 0, 0, 0, 0, 0, 0, 0, 0, 0, 0, 0, 0, 0, 0, 0,\n",
      "        0, 0, 0, 0, 0, 0, 0, 0, 0, 0, 0, 0, 0, 0, 0, 0, 0, 0, 0, 0, 0, 0, 0, 0],\n",
      "       device='cuda:0')\n",
      "Test Accuracy of the model: 5063.636363636364 %\n"
     ]
    }
   ],
   "source": [
    "# model.eval()  # eval mode will turn off the dropout; good to explicitly call when you test\n",
    "# all_labels = []\n",
    "# all_predicted = []\n",
    "# losses_test = []\n",
    "# with torch.no_grad():\n",
    "#     correct = 0\n",
    "#     total = 0\n",
    "#     for xb, yb in test_dl:\n",
    "#         xb = xb.to(device)\n",
    "#         yb = yb.to(device)\n",
    "#         outputs = model(xb)\n",
    "#         _, predicted = torch.max(outputs.data, 1)\n",
    "#         total += yb.size(0)\n",
    "#         correct += (predicted == yb).sum().item()\n",
    "#         print(predicted)\n",
    "# #         print(total)\n",
    "        \n",
    "#         all_labels.append(yb.cpu().numpy())  #for plotting\n",
    "#         all_predicted.append(predicted.cpu().numpy())\n",
    "#         loss = criterion(outputs, yb)\n",
    "#         losses_test.append(loss)\n",
    "#     print('Test Accuracy of the model: {} %'.format(100 * correct / total))\n",
    "\n",
    "# # Save the model checkpoint\n",
    "# # torch.save(model.state_dict(), 'models/cnn.ckpt')"
   ]
  },
  {
   "cell_type": "code",
   "execution_count": 70,
   "metadata": {},
   "outputs": [],
   "source": [
    "# total_step = len(train_dl)\n",
    "# for epoch in range(epoches):\n",
    "#     for i, (images, labels) in enumerate(train_dl):\n",
    "        \n",
    "#         #con2d expects (batch, channel, width, height)\n",
    "#         images = images.to(device)\n",
    "#         labels = labels.to(device)\n",
    "        \n",
    "#         #print(images.size())\n",
    "#         #print(labels.size())\n",
    "        \n",
    "#         # Forward pass\n",
    "#         outputs = model(images)\n",
    "#         loss = criterion(outputs, labels)\n",
    "        \n",
    "#         # Backward and optimize\n",
    "#         optimizer.zero_grad()\n",
    "#         loss.backward()\n",
    "#         optimizer.step()\n",
    "        \n",
    "#         if (i+1) % 100 == 0:\n",
    "#             sys.stdout.write ('\\rEpoch [{}/{}], Step [{}/{}], Loss: {:.4f}' \n",
    "#                    .format(epoch+1, epoches, i+1, total_step, loss.item()))"
   ]
  },
  {
   "cell_type": "code",
   "execution_count": null,
   "metadata": {},
   "outputs": [],
   "source": [
    "# # Test the model\n",
    "# model.eval()  # eval mode will turn off the dropout; good to explicitly call when you test\n",
    "# all_labels = []\n",
    "# all_predicted = []\n",
    "# with torch.no_grad():\n",
    "#     correct = 0\n",
    "#     total = 0\n",
    "#     for images, labels in test_loader:\n",
    "#         images = images.to(device)\n",
    "#         labels = labels.to(device)\n",
    "#         outputs = model(images)\n",
    "#         _, predicted = torch.max(outputs.data, 1)\n",
    "#         total += labels.size(0)\n",
    "#         correct += (predicted == labels).sum().item()\n",
    "#         all_labels.append(labels.numpy())  #for plotting\n",
    "#         all_predicted.append(predicted.numpy())\n",
    "\n",
    "#     print('Test Accuracy of the model on the 10000 test images: {} %'.format(100 * correct / total))\n",
    "\n",
    "# # Save the model checkpoint\n",
    "# torch.save(model.state_dict(), 'models/cnn.ckpt')"
   ]
  },
  {
   "cell_type": "code",
   "execution_count": 80,
   "metadata": {},
   "outputs": [],
   "source": [
    "def train(model, iterator, optimizer, criterion):\n",
    "    total = 0\n",
    "    correct = 0\n",
    "    epoch_loss = 0\n",
    "    epoch_acc = 0\n",
    "    \n",
    "    model.train()\n",
    "    \n",
    "    for batch, labels in iterator:\n",
    "        \n",
    "        #Move tensors to the configured device\n",
    "        batch = batch.to(device)\n",
    "        labels = labels.to(device)\n",
    "        \n",
    "        #Forward pass\n",
    "        outputs = model(batch.float())\n",
    "        loss = criterion(outputs, labels)\n",
    "        \n",
    "        # Backward and optimize\n",
    "        optimizer.zero_grad()\n",
    "        loss.backward()\n",
    "        optimizer.step()\n",
    "                \n",
    "        #check accuracy\n",
    "        predictions = model(batch.float())\n",
    "        _, predicted = torch.max(predictions.data, 1)  #returns max value, indices\n",
    "        total += labels.size(0)  #keep track of total\n",
    "        correct += (predicted == labels).sum().item()  #.item() give the raw number\n",
    "        acc = 100 * (correct / total)\n",
    "                \n",
    "        epoch_loss += loss.item()\n",
    "        epoch_acc = acc\n",
    "        \n",
    "    return epoch_loss / len(iterator), epoch_acc, predicted\n",
    "\n",
    "def evaluate(model, iterator, criterion):\n",
    "    \n",
    "    total = 0\n",
    "    correct = 0\n",
    "    epoch_loss = 0\n",
    "    epoch_acc = 0\n",
    "    \n",
    "    model.eval()\n",
    "    \n",
    "    with torch.no_grad():\n",
    "    \n",
    "        for batch, labels in iterator:\n",
    "            \n",
    "            #Move tensors to the configured device\n",
    "            batch = batch.to(device)\n",
    "            labels = labels.to(device)\n",
    "\n",
    "            predictions = model(batch.float())\n",
    "            loss = criterion(predictions, labels)\n",
    "\n",
    "            _, predicted = torch.max(predictions.data, 1)  #returns max value, indices\n",
    "            \n",
    "            total += labels.size(0)  #keep track of total\n",
    "            correct += (predicted == labels).sum().item()  #.item() give the raw number\n",
    "            acc = 100 * (correct / total)\n",
    "            \n",
    "            epoch_loss += loss.item()\n",
    "            epoch_acc += acc\n",
    "        \n",
    "    return epoch_loss / len(iterator), epoch_acc / len(iterator) , predicted"
   ]
  },
  {
   "cell_type": "code",
   "execution_count": 81,
   "metadata": {},
   "outputs": [],
   "source": [
    "import time\n",
    "\n",
    "def epoch_time(start_time, end_time):\n",
    "    elapsed_time = end_time - start_time\n",
    "    elapsed_mins = int(elapsed_time / 60)\n",
    "    elapsed_secs = int(elapsed_time - (elapsed_mins * 60))\n",
    "    return elapsed_mins, elapsed_secs"
   ]
  },
  {
   "cell_type": "code",
   "execution_count": 85,
   "metadata": {},
   "outputs": [
    {
     "name": "stdout",
     "output_type": "stream",
     "text": [
      "Model:CNN saved.\n",
      "Model:CNN saved.\n",
      "Model:CNN saved.\n",
      "Model:CNN saved.\n",
      "\tTrain Loss: 0.030 | Train Acc: 5286.29%\n",
      "\t Val. Loss: 0.392 |  Val. Acc: 5354.55%\n",
      "tensor([0, 0, 0, 0, 0, 0, 0, 0, 0, 0, 0, 0, 0, 0, 0, 0, 0, 0, 0, 0, 0, 0, 0, 0,\n",
      "        0, 0, 0, 0, 0, 0, 0, 0, 0, 0, 0, 0, 0, 0, 0, 0, 0, 0, 0, 0, 0, 0, 0, 0,\n",
      "        0, 0, 0, 0, 0, 0, 0, 0, 0, 0, 0, 0], device='cuda:0')\n",
      "tensor([0, 0, 0, 0, 0, 0, 0, 0, 0, 0, 0, 0, 0, 0, 0, 0, 0, 0, 0, 0, 0, 0, 0, 0,\n",
      "        0, 0, 0, 0, 0, 0, 0, 0, 0, 0, 0, 0, 0, 0, 0, 0, 0, 0, 0, 0, 0, 0, 0, 0],\n",
      "       device='cuda:0')\n",
      "Model:CNN saved.\n",
      "\tTrain Loss: 0.001 | Train Acc: 5284.57%\n",
      "\t Val. Loss: 0.616 |  Val. Acc: 5354.55%\n",
      "tensor([0, 0, 0, 0, 0, 0, 0, 0, 0, 0, 0, 0, 0, 0, 0, 0, 0, 0, 0, 0, 0, 0, 0, 0,\n",
      "        0, 0, 0, 0, 0, 0, 0, 0, 0, 0, 0, 0, 0, 0, 0, 0, 0, 0, 0, 0, 0, 0, 0, 0,\n",
      "        0, 0, 0, 0, 0, 0, 0, 0, 0, 0, 0, 0], device='cuda:0')\n",
      "tensor([0, 0, 0, 0, 0, 0, 0, 0, 0, 0, 0, 0, 0, 0, 0, 0, 0, 0, 0, 0, 0, 0, 0, 0,\n",
      "        0, 0, 0, 0, 0, 0, 0, 0, 0, 0, 0, 0, 0, 0, 0, 0, 0, 0, 0, 0, 0, 0, 0, 0],\n",
      "       device='cuda:0')\n"
     ]
    }
   ],
   "source": [
    "N_EPOCHS = 50\n",
    "\n",
    "best_valid_loss = float('inf')\n",
    "\n",
    "\n",
    "    \n",
    "# start_time = time.time()\n",
    "\n",
    "for epoch in range(N_EPOCHS):\n",
    "# start_time = time.time()\n",
    "\n",
    "    train_loss, train_acc, predicted_train = train(model, train_dl, optimizer, criterion)\n",
    "    valid_loss, valid_acc, predicted_eval = evaluate(model, test_dl, criterion)\n",
    "\n",
    "    # end_time = time.time()\n",
    "\n",
    "#     epoch_mins, epoch_secs = epoch_time(start_time, end_time)\n",
    "\n",
    "    if (epoch+1) % 20 == 0:\n",
    "#         print(f'Epoch: {epoch+1:02} | Epoch Time: {epoch_mins}m {epoch_secs}s')\n",
    "        print(f'\\tTrain Loss: {train_loss:.3f} | Train Acc: {train_acc:.2f}%')\n",
    "        print(f'\\t Val. Loss: {valid_loss:.3f} |  Val. Acc: {valid_acc:.2f}%')\n",
    "\n",
    "        print(predicted_train)\n",
    "        print(predicted_eval)\n",
    "\n",
    "    if valid_loss < best_valid_loss:\n",
    "        best_valid_loss = valid_loss\n",
    "        print(\"Model:{} saved.\".format(type(model).__name__))\n",
    "        torch.save(model.state_dict(), 'models/checkpoint.pth.tar')\n",
    "        best_model_index = i         \n",
    "\n",
    "            "
   ]
  },
  {
   "cell_type": "code",
   "execution_count": null,
   "metadata": {},
   "outputs": [],
   "source": []
  }
 ],
 "metadata": {
  "accelerator": "GPU",
  "colab": {
   "collapsed_sections": [],
   "name": "CNN.ipynb",
   "provenance": []
  },
  "kernelspec": {
   "display_name": "Python 3 (ipykernel)",
   "language": "python",
   "name": "python3"
  },
  "language_info": {
   "codemirror_mode": {
    "name": "ipython",
    "version": 3
   },
   "file_extension": ".py",
   "mimetype": "text/x-python",
   "name": "python",
   "nbconvert_exporter": "python",
   "pygments_lexer": "ipython3",
   "version": "3.9.7"
  }
 },
 "nbformat": 4,
 "nbformat_minor": 1
}
