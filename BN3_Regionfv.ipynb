{
 "cells": [
  {
   "cell_type": "markdown",
   "metadata": {
    "id": "mZ6s_hlHkVO4"
   },
   "source": [
    "# Uploading data"
   ]
  },
  {
   "cell_type": "code",
   "execution_count": 1,
   "metadata": {
    "id": "uVi-5xHljUHw"
   },
   "outputs": [],
   "source": [
    "import pandas as pd\n",
    "import numpy as np\n",
    "import matplotlib.pyplot as plt\n",
    "import os\n",
    "import mne\n",
    "from mne import io\n",
    "from mne import read_epochs"
   ]
  },
  {
   "cell_type": "markdown",
   "metadata": {},
   "source": [
    "#### File nomenclature\n",
    "import _epo.fif files\n",
    "    \n",
    "    format: \"g\"+ group_number + player_type + subject +'_epo.fif'\n",
    "    player_type: [\"solo\", \"dual\"]\n",
    "    subject: [1, 2]"
   ]
  },
  {
   "cell_type": "code",
   "execution_count": 2,
   "metadata": {},
   "outputs": [
    {
     "name": "stdout",
     "output_type": "stream",
     "text": [
      "\n",
      "========= epoch_1 ==========\n",
      "Reading ./data/g1dual1_epo.fif ...\n",
      "    Found the data of interest:\n",
      "        t =     -99.61 ...     699.22 ms\n",
      "        0 CTF compensation matrices available\n",
      "Not setting metadata\n",
      "Not setting metadata\n",
      "636 matching events found\n",
      "No baseline correction applied\n",
      "0 projection items activated\n",
      "\n",
      "========= epoch_2 ==========\n",
      "Reading ./data/g1solo1_epo.fif ...\n",
      "    Found the data of interest:\n",
      "        t =     -99.61 ...     699.22 ms\n",
      "        0 CTF compensation matrices available\n",
      "Not setting metadata\n",
      "Not setting metadata\n",
      "240 matching events found\n",
      "No baseline correction applied\n",
      "0 projection items activated\n"
     ]
    }
   ],
   "source": [
    "url = './data/'\n",
    "\n",
    "print(\"\\n========= epoch_1 ==========\")\n",
    "\n",
    "# epoch_1\n",
    "file_name_1 = 'g1dual1_epo.fif' # eg. 'g1dual1_epo.fif'\n",
    "epoch_1 = read_epochs(url + file_name_1)\n",
    "print(\"\\n========= epoch_2 ==========\")\n",
    "\n",
    "# epoch_2\n",
    "file_name_2 = 'g1solo1_epo.fif' # eg. 'g1dual2_epo.fif'\n",
    "epoch_2 = read_epochs(url + file_name_2)"
   ]
  },
  {
   "cell_type": "code",
   "execution_count": 3,
   "metadata": {
    "id": "u59ar_ey9Kwv"
   },
   "outputs": [
    {
     "name": "stdout",
     "output_type": "stream",
     "text": [
      "(636, 32, 410)\n",
      "(636,)\n"
     ]
    }
   ],
   "source": [
    "X_train = epoch_1.get_data()\n",
    "y_train = np.array(epoch_1.events[:, -1], dtype = 'float32')\n",
    "\n",
    "print(X_train.shape)\n",
    "print(y_train.shape)"
   ]
  },
  {
   "cell_type": "code",
   "execution_count": 4,
   "metadata": {
    "scrolled": true
   },
   "outputs": [
    {
     "name": "stdout",
     "output_type": "stream",
     "text": [
      "(240, 32, 410)\n",
      "(240,)\n"
     ]
    }
   ],
   "source": [
    "X_val = epoch_2.get_data()\n",
    "y_val = np.array(epoch_2.events[:, -1], dtype = 'float32')\n",
    "\n",
    "print(X_val.shape)\n",
    "print(y_val.shape)"
   ]
  },
  {
   "cell_type": "markdown",
   "metadata": {},
   "source": [
    "## Separating Regions\n",
    "Region channels\n",
    "- 0-7 --> F\n",
    "- 7-11, 12-15 --> C\n",
    "- 16-25 --> P\n",
    "- 25 -- 32> 0\n",
    "- 11-12, 15-16 --> T"
   ]
  },
  {
   "cell_type": "code",
   "execution_count": 5,
   "metadata": {},
   "outputs": [
    {
     "name": "stdout",
     "output_type": "stream",
     "text": [
      "F (636, 7, 410)\n",
      "C (636, 7, 410)\n",
      "P (636, 9, 410)\n",
      "O (636, 7, 410)\n",
      "T (636, 2, 410)\n"
     ]
    }
   ],
   "source": [
    "X_train_F = X_train[:, 0:7, :]\n",
    "X_train_P = X_train[:, 16:25, :]\n",
    "X_train_O = X_train[:, 25:32, :]\n",
    "X_train_C1 = X_train[:, 7:11, :]\n",
    "X_train_C2 = X_train[:, 12:15, :]\n",
    "X_train_C = np.concatenate((X_train_C1, X_train_C2), axis=1)\n",
    "X_train_T1 = X_train[:, 11:12, :]\n",
    "X_train_T2 = X_train[:, 15:16, :]\n",
    "X_train_T = np.concatenate((X_train_T1, X_train_T2), axis=1)\n",
    "print(\"F\",X_train_F.shape)\n",
    "print(\"C\", X_train_C.shape)\n",
    "print(\"P\", X_train_P.shape)\n",
    "print(\"O\", X_train_O.shape)\n",
    "print(\"T\", X_train_T.shape)\n"
   ]
  },
  {
   "cell_type": "code",
   "execution_count": 6,
   "metadata": {},
   "outputs": [
    {
     "name": "stdout",
     "output_type": "stream",
     "text": [
      "F (240, 7, 410)\n",
      "C (240, 7, 410)\n",
      "P (240, 9, 410)\n",
      "O (240, 7, 410)\n",
      "T (240, 2, 410)\n"
     ]
    }
   ],
   "source": [
    "X_val_F = X_val[:, 0:7, :]\n",
    "X_val_P = X_val[:, 16:25, :]\n",
    "X_val_O = X_val[:, 25:32, :]\n",
    "X_val_C1 = X_val[:, 7:11, :]\n",
    "X_val_C2 = X_val[:, 12:15, :]\n",
    "X_val_C = np.concatenate((X_val_C1, X_val_C2), axis=1)\n",
    "X_val_T1 = X_val[:, 11:12, :]\n",
    "X_val_T2 = X_val[:, 15:16, :]\n",
    "X_val_T = np.concatenate((X_val_T1, X_val_T2), axis=1)\n",
    "\n",
    "print(\"F\", X_val_F.shape)\n",
    "print(\"C\", X_val_C.shape)\n",
    "print(\"P\", X_val_P.shape)\n",
    "print(\"O\", X_val_O.shape)\n",
    "print(\"T\", X_val_T.shape)"
   ]
  },
  {
   "cell_type": "markdown",
   "metadata": {},
   "source": [
    "#### Creating Tensors"
   ]
  },
  {
   "cell_type": "code",
   "execution_count": 7,
   "metadata": {
    "id": "3epcatwdBASI"
   },
   "outputs": [],
   "source": [
    "import torch\n",
    "import torch.nn as nn\n",
    "from torch.utils.data import TensorDataset\n",
    "from torch.utils.data import DataLoader"
   ]
  },
  {
   "cell_type": "code",
   "execution_count": 8,
   "metadata": {
    "id": "S9aG8ZJrG3X3"
   },
   "outputs": [
    {
     "name": "stdout",
     "output_type": "stream",
     "text": [
      "cuda\n"
     ]
    }
   ],
   "source": [
    "device = torch.device('cuda' if torch.cuda.is_available() else 'cpu')\n",
    "print(device)"
   ]
  },
  {
   "cell_type": "code",
   "execution_count": 9,
   "metadata": {
    "id": "Ha40ZutqBfm8"
   },
   "outputs": [
    {
     "name": "stdout",
     "output_type": "stream",
     "text": [
      "X shape\n",
      "F : torch.Size([636, 7, 410])\n",
      "C : torch.Size([636, 7, 410])\n",
      "P : torch.Size([636, 9, 410])\n",
      "O : torch.Size([636, 7, 410])\n",
      "T : torch.Size([636, 2, 410])\n",
      "y shape: torch.Size([636, 1])\n",
      "\n",
      "\n",
      "X_val shape\n",
      "F : torch.Size([240, 7, 410])\n",
      "C : torch.Size([240, 7, 410])\n",
      "P : torch.Size([240, 9, 410])\n",
      "O : torch.Size([240, 7, 410])\n",
      "T : torch.Size([240, 2, 410])\n",
      "y_val shape: torch.Size([240, 1])\n"
     ]
    }
   ],
   "source": [
    "X_F = torch.Tensor(X_train_F)\n",
    "X_C = torch.Tensor(X_train_C)\n",
    "X_P = torch.Tensor(X_train_P)\n",
    "X_O = torch.Tensor(X_train_O)\n",
    "X_T = torch.Tensor(X_train_T)\n",
    "y = torch.Tensor(y_train)\n",
    "y = y - 1\n",
    "y = y.unsqueeze(1)\n",
    "print(\"X shape\")\n",
    "print(\"F :\",X_F.size())\n",
    "print(\"C :\",X_C.size())\n",
    "print(\"P :\",X_P.size())\n",
    "print(\"O :\",X_O.size())\n",
    "print(\"T :\",X_T.size())\n",
    "print(\"y shape:\",y.size())\n",
    "\n",
    "print('\\n')\n",
    "\n",
    "X_val_F = torch.Tensor(X_val_F)\n",
    "X_val_C = torch.Tensor(X_val_C)\n",
    "X_val_P = torch.Tensor(X_val_P)\n",
    "X_val_O = torch.Tensor(X_val_O)\n",
    "X_val_T = torch.Tensor(X_val_T)\n",
    "y_val = torch.Tensor(y_val)\n",
    "y_val = y_val - 1\n",
    "y_val = y_val.unsqueeze(1)\n",
    "print(\"X_val shape\")\n",
    "print(\"F :\",X_val_F.size())\n",
    "print(\"C :\",X_val_C.size())\n",
    "print(\"P :\",X_val_P.size())\n",
    "print(\"O :\",X_val_O.size())\n",
    "print(\"T :\",X_val_T.size())\n",
    "print(\"y_val shape:\",y_val.size())"
   ]
  },
  {
   "cell_type": "code",
   "execution_count": 10,
   "metadata": {},
   "outputs": [],
   "source": [
    "train_ds_F = TensorDataset(X_F, y)\n",
    "valid_ds_F = TensorDataset(X_val_F, y_val)\n",
    "\n",
    "train_ds_C = TensorDataset(X_C, y)\n",
    "valid_ds_C = TensorDataset(X_val_C, y_val)\n",
    "\n",
    "train_ds_P = TensorDataset(X_P, y)\n",
    "valid_ds_P = TensorDataset(X_val_P, y_val)\n",
    "\n",
    "train_ds_O = TensorDataset(X_O, y)\n",
    "valid_ds_O = TensorDataset(X_val_O, y_val)\n",
    "\n",
    "train_ds_T = TensorDataset(X_T, y)\n",
    "valid_ds_T = TensorDataset(X_val_T, y_val)\n",
    "\n",
    "# train_size = int(X.size()[0] * 0.8)\n",
    "# valid_size = X.size()[0] - train_size\n",
    "\n",
    "# train_set, valid_set = torch.utils.data.random_split(train_ds, [train_size, valid_size])\n",
    "\n",
    "BATCH_SIZE= 64\n",
    "\n",
    "train_iterator_F = torch.utils.data.DataLoader(dataset=train_ds_F, batch_size=BATCH_SIZE, shuffle=True)\n",
    "valid_iterator_F = torch.utils.data.DataLoader(dataset=valid_ds_F, batch_size=BATCH_SIZE, shuffle=False)\n",
    "\n",
    "train_iterator_C = torch.utils.data.DataLoader(dataset=train_ds_C, batch_size=BATCH_SIZE, shuffle=True)\n",
    "valid_iterator_C = torch.utils.data.DataLoader(dataset=valid_ds_C, batch_size=BATCH_SIZE, shuffle=False)\n",
    "\n",
    "train_iterator_P = torch.utils.data.DataLoader(dataset=train_ds_P, batch_size=BATCH_SIZE, shuffle=True)\n",
    "valid_iterator_P = torch.utils.data.DataLoader(dataset=valid_ds_P, batch_size=BATCH_SIZE, shuffle=False)\n",
    "\n",
    "train_iterator_O = torch.utils.data.DataLoader(dataset=train_ds_O, batch_size=BATCH_SIZE, shuffle=True)\n",
    "valid_iterator_O = torch.utils.data.DataLoader(dataset=valid_ds_O, batch_size=BATCH_SIZE, shuffle=False)\n",
    "\n",
    "train_iterator_T = torch.utils.data.DataLoader(dataset=train_ds_T, batch_size=BATCH_SIZE, shuffle=True)\n",
    "valid_iterator_T = torch.utils.data.DataLoader(dataset=valid_ds_T, batch_size=BATCH_SIZE, shuffle=False)"
   ]
  },
  {
   "cell_type": "markdown",
   "metadata": {},
   "source": [
    "#### Model"
   ]
  },
  {
   "cell_type": "code",
   "execution_count": 11,
   "metadata": {
    "id": "IJf6nVpSDkFL"
   },
   "outputs": [],
   "source": [
    "class CNN(nn.Module):\n",
    "    def __init__(self,num_classes, input_shape):\n",
    "        super(CNN, self).__init__()\n",
    "        self.input_dim = input_shape[1]\n",
    "        self.input_samples = input_shape[2]\n",
    "        \n",
    "        #Layer 0\n",
    "        self.layer0 = nn.BatchNorm1d(self.input_dim)\n",
    "        \n",
    "        #Layer 1\n",
    "        self.layer1 = nn.Sequential(nn.BatchNorm1d(self.input_dim),\n",
    "                    nn.Conv1d(in_channels= self.input_dim, out_channels= 16, kernel_size = 1, stride=1),\n",
    "                    nn.ReLU())\n",
    "        \n",
    "        #Layer2\n",
    "        self.layer2 = nn.Sequential(nn.BatchNorm1d(16),\n",
    "                    nn.Conv1d(in_channels= 16, out_channels= 16 , kernel_size = 20, stride = 20),\n",
    "                    nn.ReLU())\n",
    "        \n",
    "        #Layer3\n",
    "        self.fc1 = nn.Sequential(\n",
    "                    nn.Flatten(),\n",
    "                    nn.Linear( 16 * round(self.input_samples/ 20), 128),\n",
    "                    nn.Tanh(),\n",
    "                    nn.Dropout(p=0.8))\n",
    "        #Layer4\n",
    "        self.fc2 = nn.Sequential(\n",
    "                    nn.Linear(128 , 128),\n",
    "                    nn.Tanh(),\n",
    "                    nn.Dropout(p=0.8))\n",
    "        \n",
    "        #Layer5\n",
    "        self.fc3 = nn.Sequential(nn.Linear(128 , num_classes),nn.Sigmoid())\n",
    "    \n",
    "    \n",
    "    def forward(self, x):\n",
    "        x = self.layer0(x)\n",
    "#         print(\"l0 out\",x.size())\n",
    "        x = self.layer1(x)\n",
    "#         print(\"l1 out\",x.size())\n",
    "        x = self.layer2(x)\n",
    "#         print(\"l2 out\",x.size())\n",
    "        x = self.fc1(x)\n",
    "#         print(\"l3 out\",x.size())\n",
    "        x = self.fc2(x)\n",
    "#         print(\"l4 out\",x.size())\n",
    "        x = self.fc3(x)\n",
    "#         print(\"l5 out\",x.size())\n",
    "        return x"
   ]
  },
  {
   "cell_type": "code",
   "execution_count": 12,
   "metadata": {
    "id": "X5pOr6gwGPQG"
   },
   "outputs": [],
   "source": [
    "learning_rate=0.001\n",
    "epoches = 50"
   ]
  },
  {
   "cell_type": "markdown",
   "metadata": {},
   "source": [
    "## Region F"
   ]
  },
  {
   "cell_type": "code",
   "execution_count": 13,
   "metadata": {
    "id": "ief2zi7OFT9K"
   },
   "outputs": [
    {
     "name": "stdout",
     "output_type": "stream",
     "text": [
      "(636, 7, 410)\n"
     ]
    }
   ],
   "source": [
    "input_shape = X_train_F.shape\n",
    "print(input_shape)\n",
    "model_F = CNN(num_classes=1, input_shape = input_shape).to(device)\n",
    "criterion = nn.BCELoss()\n",
    "optimizer = torch.optim.Adam(model_F.parameters(), lr=learning_rate)"
   ]
  },
  {
   "cell_type": "code",
   "execution_count": 14,
   "metadata": {
    "id": "uS-hWU4zGhX4"
   },
   "outputs": [
    {
     "name": "stdout",
     "output_type": "stream",
     "text": [
      "CNN(\n",
      "  (layer0): BatchNorm1d(7, eps=1e-05, momentum=0.1, affine=True, track_running_stats=True)\n",
      "  (layer1): Sequential(\n",
      "    (0): BatchNorm1d(7, eps=1e-05, momentum=0.1, affine=True, track_running_stats=True)\n",
      "    (1): Conv1d(7, 16, kernel_size=(1,), stride=(1,))\n",
      "    (2): ReLU()\n",
      "  )\n",
      "  (layer2): Sequential(\n",
      "    (0): BatchNorm1d(16, eps=1e-05, momentum=0.1, affine=True, track_running_stats=True)\n",
      "    (1): Conv1d(16, 16, kernel_size=(20,), stride=(20,))\n",
      "    (2): ReLU()\n",
      "  )\n",
      "  (fc1): Sequential(\n",
      "    (0): Flatten(start_dim=1, end_dim=-1)\n",
      "    (1): Linear(in_features=320, out_features=128, bias=True)\n",
      "    (2): Tanh()\n",
      "    (3): Dropout(p=0.8, inplace=False)\n",
      "  )\n",
      "  (fc2): Sequential(\n",
      "    (0): Linear(in_features=128, out_features=128, bias=True)\n",
      "    (1): Tanh()\n",
      "    (2): Dropout(p=0.8, inplace=False)\n",
      "  )\n",
      "  (fc3): Sequential(\n",
      "    (0): Linear(in_features=128, out_features=1, bias=True)\n",
      "    (1): Sigmoid()\n",
      "  )\n",
      ")\n"
     ]
    }
   ],
   "source": [
    "print(model_F)"
   ]
  },
  {
   "cell_type": "code",
   "execution_count": 15,
   "metadata": {},
   "outputs": [],
   "source": [
    "def train(model, iterator, optimizer, criterion):\n",
    "    total = 0\n",
    "    correct = 0\n",
    "    epoch_loss = 0\n",
    "    epoch_acc = 0\n",
    "    \n",
    "    model.train()\n",
    "    \n",
    "    for batch, labels in iterator:\n",
    "        \n",
    "        #Move tensors to the configured device\n",
    "        batch = batch.to(device)\n",
    "        labels = labels.to(device)\n",
    "        \n",
    "        #Forward pass\n",
    "        outputs = model(batch.float())\n",
    "        loss = criterion(outputs, labels)\n",
    "        \n",
    "        # Backward and optimize\n",
    "        optimizer.zero_grad()\n",
    "        loss.backward()\n",
    "        optimizer.step()\n",
    "                \n",
    "        #check accuracy\n",
    "        predictions = model(batch.float())\n",
    "       # print(\"predictions\",predictions)\n",
    "        #print(\"labels\", labels)\n",
    "        predicted = predictions.round()\n",
    "#         print(\"train predicted\",predicted)\n",
    "#         _, predicted = torch.max(predictions.data, 1) \n",
    "        #returns max value, indices\n",
    "#         predicted = predicted.unsqueeze(1)\n",
    "        total += labels.size(0)  #keep track of total\n",
    "#         correct += (predicted == labels).sum().item()  #.item() give the raw number\n",
    "        correct += (predicted == labels).sum().item()\n",
    "#         print(\"label\",labels.size())\n",
    "#         print(\"predicted\", predicted.size())\n",
    "#         print(\"correct\", correct)\n",
    "#         print(\"total\", total)\n",
    "#         print(\"acc\", correct/ total)\n",
    "        acc = 100 * (correct / total)\n",
    "                \n",
    "        epoch_loss += loss.item()\n",
    "        epoch_acc = acc\n",
    "        \n",
    "    return epoch_loss / len(iterator), epoch_acc, predicted\n",
    "\n",
    "def evaluate(model, iterator, criterion):\n",
    "    \n",
    "    total = 0\n",
    "    correct = 0\n",
    "    epoch_loss = 0\n",
    "    epoch_acc = 0\n",
    "    \n",
    "    model.eval()\n",
    "    \n",
    "    with torch.no_grad():\n",
    "    \n",
    "        for batch, labels in iterator:\n",
    "            \n",
    "            #Move tensors to the configured device\n",
    "            batch = batch.to(device)\n",
    "            labels = labels.to(device)\n",
    "\n",
    "            predictions = model(batch.float())\n",
    "            loss = criterion(predictions, labels)\n",
    "\n",
    "#             _, predicted = torch.max(predictions.data, 1)  #returns max value, indices\n",
    "            predicted = predictions.round()\n",
    "#             print(\"test predicted\",predicted)\n",
    "#             predicted = predicted.unsqueeze(1)\n",
    "            \n",
    "            total += labels.size(0)  #keep track of total\n",
    "            correct += (predicted == labels).sum().item()  #.item() give the raw number\n",
    "            acc = 100 * (correct / total)\n",
    "            \n",
    "            epoch_loss += loss.item()\n",
    "            epoch_acc += acc\n",
    "        \n",
    "    return epoch_loss / len(iterator), epoch_acc / len(iterator) , predicted"
   ]
  },
  {
   "cell_type": "code",
   "execution_count": 16,
   "metadata": {},
   "outputs": [],
   "source": [
    "import time\n",
    "\n",
    "def epoch_time(start_time, end_time):\n",
    "    elapsed_time = end_time - start_time\n",
    "    elapsed_mins = int(elapsed_time / 60)\n",
    "    elapsed_secs = int(elapsed_time - (elapsed_mins * 60))\n",
    "    return elapsed_mins, elapsed_secs"
   ]
  },
  {
   "cell_type": "markdown",
   "metadata": {},
   "source": [
    "#### Train, validation"
   ]
  },
  {
   "cell_type": "code",
   "execution_count": 17,
   "metadata": {},
   "outputs": [
    {
     "name": "stdout",
     "output_type": "stream",
     "text": [
      "Epoch: 01 | Epoch Time: 0m 10s\n",
      "\tTrain Loss: 0.571 | Train Acc: 77.36%\n",
      "\t Val. Loss: 0.522 |  Val. Acc: 83.46%\n",
      "Epoch: 02 | Epoch Time: 0m 0s\n",
      "\tTrain Loss: 0.470 | Train Acc: 83.18%\n",
      "\t Val. Loss: 0.454 |  Val. Acc: 83.46%\n",
      "Epoch: 03 | Epoch Time: 0m 0s\n",
      "\tTrain Loss: 0.480 | Train Acc: 82.86%\n",
      "\t Val. Loss: 0.450 |  Val. Acc: 83.46%\n",
      "Epoch: 04 | Epoch Time: 0m 0s\n",
      "\tTrain Loss: 0.462 | Train Acc: 83.33%\n",
      "\t Val. Loss: 0.469 |  Val. Acc: 83.46%\n",
      "Epoch: 05 | Epoch Time: 0m 0s\n",
      "\tTrain Loss: 0.454 | Train Acc: 82.55%\n",
      "\t Val. Loss: 0.444 |  Val. Acc: 83.46%\n",
      "Epoch: 06 | Epoch Time: 0m 0s\n",
      "\tTrain Loss: 0.426 | Train Acc: 83.49%\n",
      "\t Val. Loss: 0.431 |  Val. Acc: 83.46%\n",
      "Epoch: 07 | Epoch Time: 0m 0s\n",
      "\tTrain Loss: 0.405 | Train Acc: 83.33%\n",
      "\t Val. Loss: 0.445 |  Val. Acc: 83.46%\n",
      "Epoch: 08 | Epoch Time: 0m 0s\n",
      "\tTrain Loss: 0.413 | Train Acc: 83.96%\n",
      "\t Val. Loss: 0.479 |  Val. Acc: 83.46%\n",
      "Epoch: 09 | Epoch Time: 0m 0s\n",
      "\tTrain Loss: 0.415 | Train Acc: 84.91%\n",
      "\t Val. Loss: 0.462 |  Val. Acc: 83.46%\n",
      "Epoch: 10 | Epoch Time: 0m 0s\n",
      "\tTrain Loss: 0.391 | Train Acc: 84.43%\n",
      "\t Val. Loss: 0.470 |  Val. Acc: 83.03%\n",
      "Epoch: 11 | Epoch Time: 0m 0s\n",
      "\tTrain Loss: 0.371 | Train Acc: 83.65%\n",
      "\t Val. Loss: 0.501 |  Val. Acc: 83.03%\n",
      "Epoch: 12 | Epoch Time: 0m 0s\n",
      "\tTrain Loss: 0.393 | Train Acc: 85.38%\n",
      "\t Val. Loss: 0.486 |  Val. Acc: 81.78%\n"
     ]
    }
   ],
   "source": [
    "N_EPOCHS = 12\n",
    "\n",
    "best_valid_loss = float('inf')\n",
    "\n",
    "train_losses = []\n",
    "valid_losses = []\n",
    "\n",
    "train_accs = []\n",
    "valid_accs = []\n",
    "\n",
    "train_predicted_labels = []\n",
    "valid_predicted_labels = []\n",
    "\n",
    "train_true_labels = []\n",
    "valid_true_labels = []\n",
    "\n",
    "# for i, model in enumerate(models):\n",
    "#     print(f\"Training {type(model).__name__}\")\n",
    "    \n",
    "#     start_time = time.time()\n",
    "\n",
    "for epoch in range(N_EPOCHS):\n",
    "    start_time = time.time()\n",
    "\n",
    "    train_loss, train_acc, predicted_train = train(model_F, train_iterator_F, optimizer, criterion)\n",
    "    valid_loss, valid_acc, predicted_eval = evaluate(model_F, valid_iterator_F, criterion)\n",
    "\n",
    "    train_losses.append(train_loss); train_accs.append(train_acc); train_predicted_labels.append(predicted_train)\n",
    "    valid_losses.append(valid_loss); valid_accs.append(valid_acc); valid_predicted_labels.append(predicted_eval)\n",
    "\n",
    "    end_time = time.time()\n",
    "\n",
    "    epoch_mins, epoch_secs = epoch_time(start_time, end_time)\n",
    "\n",
    "    if (epoch+1) % 1 == 0:\n",
    "        print(f'Epoch: {epoch+1:02} | Epoch Time: {epoch_mins}m {epoch_secs}s')\n",
    "        print(f'\\tTrain Loss: {train_loss:.3f} | Train Acc: {train_acc:.2f}%')\n",
    "        print(f'\\t Val. Loss: {valid_loss:.3f} |  Val. Acc: {valid_acc:.2f}%')\n",
    "\n",
    "#         print(predicted_train)\n",
    "#         print(predicted_eval)\n",
    "\n",
    "    if valid_loss < best_valid_loss:\n",
    "        best_valid_loss = valid_loss\n"
   ]
  },
  {
   "cell_type": "code",
   "execution_count": 18,
   "metadata": {
    "scrolled": false
   },
   "outputs": [
    {
     "data": {
      "image/png": "[encoded data removed]",
      "text/plain": [
       "<Figure size 720x720 with 2 Axes>"
      ]
     },
     "metadata": {
      "needs_background": "light"
     },
     "output_type": "display_data"
    }
   ],
   "source": [
    "fig,ax = plt.subplots(2,1,sharex=True,figsize=(10,10))\n",
    "ax[0].plot(np.arange(N_EPOCHS),train_losses,label = \"train loss\")\n",
    "ax[0].plot(np.arange(N_EPOCHS),valid_losses, label = \"valid loss\")\n",
    "ax[1].plot(np.arange(N_EPOCHS),train_accs,label = \"train acc\")\n",
    "ax[1].plot(np.arange(N_EPOCHS),valid_accs,label = \"valid acc\")\n",
    "\n",
    "plt.subplots_adjust(hspace=0.03)\n",
    "ax[1].set_xlabel(\"Epochs\")\n",
    "ax[0].set_ylabel(\"Loss\")\n",
    "ax[1].set_ylabel(\"Accuracy\")\n",
    "ax[0].legend()\n",
    "ax[1].legend()\n",
    "ax[0].grid(True)\n",
    "ax[1].grid(True)\n",
    "plt.show()"
   ]
  },
  {
   "cell_type": "markdown",
   "metadata": {},
   "source": [
    "## Region C"
   ]
  },
  {
   "cell_type": "code",
   "execution_count": 19,
   "metadata": {},
   "outputs": [
    {
     "name": "stdout",
     "output_type": "stream",
     "text": [
      "(636, 7, 410)\n",
      "CNN(\n",
      "  (layer0): BatchNorm1d(7, eps=1e-05, momentum=0.1, affine=True, track_running_stats=True)\n",
      "  (layer1): Sequential(\n",
      "    (0): BatchNorm1d(7, eps=1e-05, momentum=0.1, affine=True, track_running_stats=True)\n",
      "    (1): Conv1d(7, 16, kernel_size=(1,), stride=(1,))\n",
      "    (2): ReLU()\n",
      "  )\n",
      "  (layer2): Sequential(\n",
      "    (0): BatchNorm1d(16, eps=1e-05, momentum=0.1, affine=True, track_running_stats=True)\n",
      "    (1): Conv1d(16, 16, kernel_size=(20,), stride=(20,))\n",
      "    (2): ReLU()\n",
      "  )\n",
      "  (fc1): Sequential(\n",
      "    (0): Flatten(start_dim=1, end_dim=-1)\n",
      "    (1): Linear(in_features=320, out_features=128, bias=True)\n",
      "    (2): Tanh()\n",
      "    (3): Dropout(p=0.8, inplace=False)\n",
      "  )\n",
      "  (fc2): Sequential(\n",
      "    (0): Linear(in_features=128, out_features=128, bias=True)\n",
      "    (1): Tanh()\n",
      "    (2): Dropout(p=0.8, inplace=False)\n",
      "  )\n",
      "  (fc3): Sequential(\n",
      "    (0): Linear(in_features=128, out_features=1, bias=True)\n",
      "    (1): Sigmoid()\n",
      "  )\n",
      ")\n"
     ]
    }
   ],
   "source": [
    "input_shape = X_train_C.shape\n",
    "print(input_shape)\n",
    "model_C = CNN(num_classes=1, input_shape = input_shape).to(device)\n",
    "criterion = nn.BCELoss()\n",
    "optimizer = torch.optim.Adam(model_C.parameters(), lr=learning_rate)\n",
    "print(model_C)"
   ]
  },
  {
   "cell_type": "code",
   "execution_count": 20,
   "metadata": {},
   "outputs": [
    {
     "name": "stdout",
     "output_type": "stream",
     "text": [
      "Epoch: 01 | Epoch Time: 0m 0s\n",
      "\tTrain Loss: 0.566 | Train Acc: 80.35%\n",
      "\t Val. Loss: 0.503 |  Val. Acc: 83.46%\n",
      "Epoch: 02 | Epoch Time: 0m 0s\n",
      "\tTrain Loss: 0.476 | Train Acc: 83.18%\n",
      "\t Val. Loss: 0.460 |  Val. Acc: 83.46%\n",
      "Epoch: 03 | Epoch Time: 0m 0s\n",
      "\tTrain Loss: 0.472 | Train Acc: 83.18%\n",
      "\t Val. Loss: 0.452 |  Val. Acc: 83.46%\n",
      "Epoch: 04 | Epoch Time: 0m 0s\n",
      "\tTrain Loss: 0.466 | Train Acc: 81.92%\n",
      "\t Val. Loss: 0.450 |  Val. Acc: 83.46%\n",
      "Epoch: 05 | Epoch Time: 0m 0s\n",
      "\tTrain Loss: 0.474 | Train Acc: 83.18%\n",
      "\t Val. Loss: 0.451 |  Val. Acc: 83.46%\n",
      "Epoch: 06 | Epoch Time: 0m 0s\n",
      "\tTrain Loss: 0.428 | Train Acc: 83.49%\n",
      "\t Val. Loss: 0.442 |  Val. Acc: 83.46%\n",
      "Epoch: 07 | Epoch Time: 0m 0s\n",
      "\tTrain Loss: 0.422 | Train Acc: 83.33%\n",
      "\t Val. Loss: 0.473 |  Val. Acc: 83.46%\n",
      "Epoch: 08 | Epoch Time: 0m 0s\n",
      "\tTrain Loss: 0.417 | Train Acc: 83.33%\n",
      "\t Val. Loss: 0.476 |  Val. Acc: 83.46%\n",
      "Epoch: 09 | Epoch Time: 0m 0s\n",
      "\tTrain Loss: 0.393 | Train Acc: 84.28%\n",
      "\t Val. Loss: 0.429 |  Val. Acc: 84.82%\n",
      "Epoch: 10 | Epoch Time: 0m 0s\n",
      "\tTrain Loss: 0.375 | Train Acc: 85.85%\n",
      "\t Val. Loss: 0.579 |  Val. Acc: 83.46%\n",
      "Epoch: 11 | Epoch Time: 0m 0s\n",
      "\tTrain Loss: 0.354 | Train Acc: 86.01%\n",
      "\t Val. Loss: 0.632 |  Val. Acc: 83.46%\n",
      "Epoch: 12 | Epoch Time: 0m 0s\n",
      "\tTrain Loss: 0.327 | Train Acc: 88.36%\n",
      "\t Val. Loss: 0.573 |  Val. Acc: 83.46%\n"
     ]
    }
   ],
   "source": [
    "N_EPOCHS = 12\n",
    "\n",
    "best_valid_loss = float('inf')\n",
    "\n",
    "train_losses = []\n",
    "valid_losses = []\n",
    "\n",
    "train_accs = []\n",
    "valid_accs = []\n",
    "\n",
    "train_predicted_labels = []\n",
    "valid_predicted_labels = []\n",
    "\n",
    "train_true_labels = []\n",
    "valid_true_labels = []\n",
    "\n",
    "# for i, model in enumerate(models):\n",
    "#     print(f\"Training {type(model).__name__}\")\n",
    "    \n",
    "#     start_time = time.time()\n",
    "\n",
    "for epoch in range(N_EPOCHS):\n",
    "    start_time = time.time()\n",
    "\n",
    "    train_loss, train_acc, predicted_train = train(model_C, train_iterator_C, optimizer, criterion)\n",
    "    valid_loss, valid_acc, predicted_eval = evaluate(model_C, valid_iterator_C, criterion)\n",
    "\n",
    "    train_losses.append(train_loss); train_accs.append(train_acc); train_predicted_labels.append(predicted_train)\n",
    "    valid_losses.append(valid_loss); valid_accs.append(valid_acc); valid_predicted_labels.append(predicted_eval)\n",
    "\n",
    "    end_time = time.time()\n",
    "\n",
    "    epoch_mins, epoch_secs = epoch_time(start_time, end_time)\n",
    "\n",
    "    if (epoch+1) % 1 == 0:\n",
    "        print(f'Epoch: {epoch+1:02} | Epoch Time: {epoch_mins}m {epoch_secs}s')\n",
    "        print(f'\\tTrain Loss: {train_loss:.3f} | Train Acc: {train_acc:.2f}%')\n",
    "        print(f'\\t Val. Loss: {valid_loss:.3f} |  Val. Acc: {valid_acc:.2f}%')\n",
    "\n",
    "#         print(predicted_train)\n",
    "#         print(predicted_eval)\n",
    "\n",
    "    if valid_loss < best_valid_loss:\n",
    "        best_valid_loss = valid_loss\n"
   ]
  },
  {
   "cell_type": "code",
   "execution_count": 21,
   "metadata": {},
   "outputs": [
    {
     "data": {
      "image/png": "[encoded data removed]",
      "text/plain": [
       "<Figure size 720x720 with 2 Axes>"
      ]
     },
     "metadata": {
      "needs_background": "light"
     },
     "output_type": "display_data"
    }
   ],
   "source": [
    "fig,ax = plt.subplots(2,1,sharex=True,figsize=(10,10))\n",
    "ax[0].plot(np.arange(N_EPOCHS),train_losses,label = \"train loss\")\n",
    "ax[0].plot(np.arange(N_EPOCHS),valid_losses, label = \"valid loss\")\n",
    "ax[1].plot(np.arange(N_EPOCHS),train_accs,label = \"train acc\")\n",
    "ax[1].plot(np.arange(N_EPOCHS),valid_accs,label = \"valid acc\")\n",
    "\n",
    "plt.subplots_adjust(hspace=0.03)\n",
    "ax[1].set_xlabel(\"Epochs\")\n",
    "ax[0].set_ylabel(\"Loss\")\n",
    "ax[1].set_ylabel(\"Accuracy\")\n",
    "ax[0].legend()\n",
    "ax[1].legend()\n",
    "ax[0].grid(True)\n",
    "ax[1].grid(True)\n",
    "plt.show()"
   ]
  },
  {
   "cell_type": "markdown",
   "metadata": {},
   "source": [
    "## Region P"
   ]
  },
  {
   "cell_type": "code",
   "execution_count": 22,
   "metadata": {},
   "outputs": [
    {
     "name": "stdout",
     "output_type": "stream",
     "text": [
      "(636, 9, 410)\n",
      "CNN(\n",
      "  (layer0): BatchNorm1d(9, eps=1e-05, momentum=0.1, affine=True, track_running_stats=True)\n",
      "  (layer1): Sequential(\n",
      "    (0): BatchNorm1d(9, eps=1e-05, momentum=0.1, affine=True, track_running_stats=True)\n",
      "    (1): Conv1d(9, 16, kernel_size=(1,), stride=(1,))\n",
      "    (2): ReLU()\n",
      "  )\n",
      "  (layer2): Sequential(\n",
      "    (0): BatchNorm1d(16, eps=1e-05, momentum=0.1, affine=True, track_running_stats=True)\n",
      "    (1): Conv1d(16, 16, kernel_size=(20,), stride=(20,))\n",
      "    (2): ReLU()\n",
      "  )\n",
      "  (fc1): Sequential(\n",
      "    (0): Flatten(start_dim=1, end_dim=-1)\n",
      "    (1): Linear(in_features=320, out_features=128, bias=True)\n",
      "    (2): Tanh()\n",
      "    (3): Dropout(p=0.8, inplace=False)\n",
      "  )\n",
      "  (fc2): Sequential(\n",
      "    (0): Linear(in_features=128, out_features=128, bias=True)\n",
      "    (1): Tanh()\n",
      "    (2): Dropout(p=0.8, inplace=False)\n",
      "  )\n",
      "  (fc3): Sequential(\n",
      "    (0): Linear(in_features=128, out_features=1, bias=True)\n",
      "    (1): Sigmoid()\n",
      "  )\n",
      ")\n"
     ]
    }
   ],
   "source": [
    "input_shape = X_train_P.shape\n",
    "print(input_shape)\n",
    "model_P = CNN(num_classes=1, input_shape = input_shape).to(device)\n",
    "criterion = nn.BCELoss()\n",
    "optimizer = torch.optim.Adam(model_P.parameters(), lr=learning_rate)\n",
    "print(model_P)"
   ]
  },
  {
   "cell_type": "code",
   "execution_count": 23,
   "metadata": {},
   "outputs": [
    {
     "name": "stdout",
     "output_type": "stream",
     "text": [
      "Epoch: 01 | Epoch Time: 0m 0s\n",
      "\tTrain Loss: 0.579 | Train Acc: 76.10%\n",
      "\t Val. Loss: 0.545 |  Val. Acc: 83.46%\n",
      "Epoch: 02 | Epoch Time: 0m 0s\n",
      "\tTrain Loss: 0.491 | Train Acc: 83.33%\n",
      "\t Val. Loss: 0.452 |  Val. Acc: 83.46%\n",
      "Epoch: 03 | Epoch Time: 0m 0s\n",
      "\tTrain Loss: 0.448 | Train Acc: 83.02%\n",
      "\t Val. Loss: 0.497 |  Val. Acc: 83.46%\n",
      "Epoch: 04 | Epoch Time: 0m 0s\n",
      "\tTrain Loss: 0.427 | Train Acc: 83.81%\n",
      "\t Val. Loss: 0.545 |  Val. Acc: 83.46%\n",
      "Epoch: 05 | Epoch Time: 0m 0s\n",
      "\tTrain Loss: 0.375 | Train Acc: 84.75%\n",
      "\t Val. Loss: 0.394 |  Val. Acc: 83.46%\n",
      "Epoch: 06 | Epoch Time: 0m 0s\n",
      "\tTrain Loss: 0.316 | Train Acc: 88.36%\n",
      "\t Val. Loss: 0.457 |  Val. Acc: 83.46%\n",
      "Epoch: 07 | Epoch Time: 0m 0s\n",
      "\tTrain Loss: 0.267 | Train Acc: 90.72%\n",
      "\t Val. Loss: 0.394 |  Val. Acc: 87.37%\n",
      "Epoch: 08 | Epoch Time: 0m 0s\n",
      "\tTrain Loss: 0.233 | Train Acc: 90.41%\n",
      "\t Val. Loss: 0.256 |  Val. Acc: 91.93%\n",
      "Epoch: 09 | Epoch Time: 0m 0s\n",
      "\tTrain Loss: 0.208 | Train Acc: 91.98%\n",
      "\t Val. Loss: 0.250 |  Val. Acc: 91.11%\n",
      "Epoch: 10 | Epoch Time: 0m 0s\n",
      "\tTrain Loss: 0.175 | Train Acc: 94.65%\n",
      "\t Val. Loss: 0.296 |  Val. Acc: 89.49%\n",
      "Epoch: 11 | Epoch Time: 0m 0s\n",
      "\tTrain Loss: 0.149 | Train Acc: 94.65%\n",
      "\t Val. Loss: 0.370 |  Val. Acc: 86.58%\n",
      "Epoch: 12 | Epoch Time: 0m 0s\n",
      "\tTrain Loss: 0.134 | Train Acc: 95.44%\n",
      "\t Val. Loss: 0.308 |  Val. Acc: 87.38%\n"
     ]
    }
   ],
   "source": [
    "N_EPOCHS = 12\n",
    "\n",
    "best_valid_loss = float('inf')\n",
    "\n",
    "train_losses = []\n",
    "valid_losses = []\n",
    "\n",
    "train_accs = []\n",
    "valid_accs = []\n",
    "\n",
    "train_predicted_labels = []\n",
    "valid_predicted_labels = []\n",
    "\n",
    "train_true_labels = []\n",
    "valid_true_labels = []\n",
    "\n",
    "# for i, model in enumerate(models):\n",
    "#     print(f\"Training {type(model).__name__}\")\n",
    "    \n",
    "#     start_time = time.time()\n",
    "\n",
    "for epoch in range(N_EPOCHS):\n",
    "    start_time = time.time()\n",
    "\n",
    "    train_loss, train_acc, predicted_train = train(model_P, train_iterator_P, optimizer, criterion)\n",
    "    valid_loss, valid_acc, predicted_eval = evaluate(model_P, valid_iterator_P, criterion)\n",
    "\n",
    "    train_losses.append(train_loss); train_accs.append(train_acc); train_predicted_labels.append(predicted_train)\n",
    "    valid_losses.append(valid_loss); valid_accs.append(valid_acc); valid_predicted_labels.append(predicted_eval)\n",
    "\n",
    "    end_time = time.time()\n",
    "\n",
    "    epoch_mins, epoch_secs = epoch_time(start_time, end_time)\n",
    "\n",
    "    if (epoch+1) % 1 == 0:\n",
    "        print(f'Epoch: {epoch+1:02} | Epoch Time: {epoch_mins}m {epoch_secs}s')\n",
    "        print(f'\\tTrain Loss: {train_loss:.3f} | Train Acc: {train_acc:.2f}%')\n",
    "        print(f'\\t Val. Loss: {valid_loss:.3f} |  Val. Acc: {valid_acc:.2f}%')\n",
    "\n",
    "#         print(predicted_train)\n",
    "#         print(predicted_eval)\n",
    "\n",
    "    if valid_loss < best_valid_loss:\n",
    "        best_valid_loss = valid_loss\n"
   ]
  },
  {
   "cell_type": "code",
   "execution_count": 24,
   "metadata": {},
   "outputs": [
    {
     "data": {
      "image/png": "[encoded data removed]",
      "text/plain": [
       "<Figure size 720x720 with 2 Axes>"
      ]
     },
     "metadata": {
      "needs_background": "light"
     },
     "output_type": "display_data"
    }
   ],
   "source": [
    "fig,ax = plt.subplots(2,1,sharex=True,figsize=(10,10))\n",
    "ax[0].plot(np.arange(N_EPOCHS),train_losses,label = \"train loss\")\n",
    "ax[0].plot(np.arange(N_EPOCHS),valid_losses, label = \"valid loss\")\n",
    "ax[1].plot(np.arange(N_EPOCHS),train_accs,label = \"train acc\")\n",
    "ax[1].plot(np.arange(N_EPOCHS),valid_accs,label = \"valid acc\")\n",
    "\n",
    "plt.subplots_adjust(hspace=0.03)\n",
    "ax[1].set_xlabel(\"Epochs\")\n",
    "ax[0].set_ylabel(\"Loss\")\n",
    "ax[1].set_ylabel(\"Accuracy\")\n",
    "ax[0].legend()\n",
    "ax[1].legend()\n",
    "ax[0].grid(True)\n",
    "ax[1].grid(True)\n",
    "plt.show()"
   ]
  },
  {
   "cell_type": "markdown",
   "metadata": {},
   "source": [
    "## Region O"
   ]
  },
  {
   "cell_type": "code",
   "execution_count": 25,
   "metadata": {},
   "outputs": [
    {
     "name": "stdout",
     "output_type": "stream",
     "text": [
      "(636, 7, 410)\n",
      "CNN(\n",
      "  (layer0): BatchNorm1d(7, eps=1e-05, momentum=0.1, affine=True, track_running_stats=True)\n",
      "  (layer1): Sequential(\n",
      "    (0): BatchNorm1d(7, eps=1e-05, momentum=0.1, affine=True, track_running_stats=True)\n",
      "    (1): Conv1d(7, 16, kernel_size=(1,), stride=(1,))\n",
      "    (2): ReLU()\n",
      "  )\n",
      "  (layer2): Sequential(\n",
      "    (0): BatchNorm1d(16, eps=1e-05, momentum=0.1, affine=True, track_running_stats=True)\n",
      "    (1): Conv1d(16, 16, kernel_size=(20,), stride=(20,))\n",
      "    (2): ReLU()\n",
      "  )\n",
      "  (fc1): Sequential(\n",
      "    (0): Flatten(start_dim=1, end_dim=-1)\n",
      "    (1): Linear(in_features=320, out_features=128, bias=True)\n",
      "    (2): Tanh()\n",
      "    (3): Dropout(p=0.8, inplace=False)\n",
      "  )\n",
      "  (fc2): Sequential(\n",
      "    (0): Linear(in_features=128, out_features=128, bias=True)\n",
      "    (1): Tanh()\n",
      "    (2): Dropout(p=0.8, inplace=False)\n",
      "  )\n",
      "  (fc3): Sequential(\n",
      "    (0): Linear(in_features=128, out_features=1, bias=True)\n",
      "    (1): Sigmoid()\n",
      "  )\n",
      ")\n"
     ]
    }
   ],
   "source": [
    "input_shape = X_train_O.shape\n",
    "print(input_shape)\n",
    "model_O = CNN(num_classes=1, input_shape = input_shape).to(device)\n",
    "criterion = nn.BCELoss()\n",
    "optimizer = torch.optim.Adam(model_O.parameters(), lr=learning_rate)\n",
    "print(model_O)"
   ]
  },
  {
   "cell_type": "code",
   "execution_count": 26,
   "metadata": {},
   "outputs": [
    {
     "name": "stdout",
     "output_type": "stream",
     "text": [
      "Epoch: 01 | Epoch Time: 0m 0s\n",
      "\tTrain Loss: 0.593 | Train Acc: 74.84%\n",
      "\t Val. Loss: 0.590 |  Val. Acc: 83.46%\n",
      "Epoch: 02 | Epoch Time: 0m 0s\n",
      "\tTrain Loss: 0.484 | Train Acc: 83.33%\n",
      "\t Val. Loss: 0.460 |  Val. Acc: 83.46%\n",
      "Epoch: 03 | Epoch Time: 0m 0s\n",
      "\tTrain Loss: 0.493 | Train Acc: 83.02%\n",
      "\t Val. Loss: 0.474 |  Val. Acc: 83.46%\n",
      "Epoch: 04 | Epoch Time: 0m 0s\n",
      "\tTrain Loss: 0.456 | Train Acc: 82.39%\n",
      "\t Val. Loss: 0.558 |  Val. Acc: 83.46%\n",
      "Epoch: 05 | Epoch Time: 0m 0s\n",
      "\tTrain Loss: 0.458 | Train Acc: 82.39%\n",
      "\t Val. Loss: 0.496 |  Val. Acc: 83.46%\n",
      "Epoch: 06 | Epoch Time: 0m 0s\n",
      "\tTrain Loss: 0.435 | Train Acc: 83.33%\n",
      "\t Val. Loss: 0.447 |  Val. Acc: 83.46%\n",
      "Epoch: 07 | Epoch Time: 0m 0s\n",
      "\tTrain Loss: 0.416 | Train Acc: 82.86%\n",
      "\t Val. Loss: 0.442 |  Val. Acc: 82.64%\n",
      "Epoch: 08 | Epoch Time: 0m 0s\n",
      "\tTrain Loss: 0.376 | Train Acc: 86.48%\n",
      "\t Val. Loss: 0.391 |  Val. Acc: 83.97%\n",
      "Epoch: 09 | Epoch Time: 0m 0s\n",
      "\tTrain Loss: 0.373 | Train Acc: 88.36%\n",
      "\t Val. Loss: 0.449 |  Val. Acc: 82.64%\n",
      "Epoch: 10 | Epoch Time: 0m 0s\n",
      "\tTrain Loss: 0.351 | Train Acc: 88.21%\n",
      "\t Val. Loss: 0.463 |  Val. Acc: 82.64%\n"
     ]
    }
   ],
   "source": [
    "N_EPOCHS = 10\n",
    "\n",
    "best_valid_loss = float('inf')\n",
    "\n",
    "train_losses = []\n",
    "valid_losses = []\n",
    "\n",
    "train_accs = []\n",
    "valid_accs = []\n",
    "\n",
    "train_predicted_labels = []\n",
    "valid_predicted_labels = []\n",
    "\n",
    "train_true_labels = []\n",
    "valid_true_labels = []\n",
    "\n",
    "# for i, model in enumerate(models):\n",
    "#     print(f\"Training {type(model).__name__}\")\n",
    "    \n",
    "#     start_time = time.time()\n",
    "\n",
    "for epoch in range(N_EPOCHS):\n",
    "    start_time = time.time()\n",
    "\n",
    "    train_loss, train_acc, predicted_train = train(model_O, train_iterator_O, optimizer, criterion)\n",
    "    valid_loss, valid_acc, predicted_eval = evaluate(model_O, valid_iterator_O, criterion)\n",
    "\n",
    "    train_losses.append(train_loss); train_accs.append(train_acc); train_predicted_labels.append(predicted_train)\n",
    "    valid_losses.append(valid_loss); valid_accs.append(valid_acc); valid_predicted_labels.append(predicted_eval)\n",
    "\n",
    "    end_time = time.time()\n",
    "\n",
    "    epoch_mins, epoch_secs = epoch_time(start_time, end_time)\n",
    "\n",
    "    if (epoch+1) % 1 == 0:\n",
    "        print(f'Epoch: {epoch+1:02} | Epoch Time: {epoch_mins}m {epoch_secs}s')\n",
    "        print(f'\\tTrain Loss: {train_loss:.3f} | Train Acc: {train_acc:.2f}%')\n",
    "        print(f'\\t Val. Loss: {valid_loss:.3f} |  Val. Acc: {valid_acc:.2f}%')\n",
    "\n",
    "#         print(predicted_train)\n",
    "#         print(predicted_eval)\n",
    "\n",
    "    if valid_loss < best_valid_loss:\n",
    "        best_valid_loss = valid_loss\n"
   ]
  },
  {
   "cell_type": "code",
   "execution_count": 27,
   "metadata": {},
   "outputs": [
    {
     "data": {
      "image/png": "[encoded data removed]",
      "text/plain": [
       "<Figure size 720x720 with 2 Axes>"
      ]
     },
     "metadata": {
      "needs_background": "light"
     },
     "output_type": "display_data"
    }
   ],
   "source": [
    "fig,ax = plt.subplots(2,1,sharex=True,figsize=(10,10))\n",
    "ax[0].plot(np.arange(N_EPOCHS),train_losses,label = \"train loss\")\n",
    "ax[0].plot(np.arange(N_EPOCHS),valid_losses, label = \"valid loss\")\n",
    "ax[1].plot(np.arange(N_EPOCHS),train_accs,label = \"train acc\")\n",
    "ax[1].plot(np.arange(N_EPOCHS),valid_accs,label = \"valid acc\")\n",
    "\n",
    "plt.subplots_adjust(hspace=0.03)\n",
    "ax[1].set_xlabel(\"Epochs\")\n",
    "ax[0].set_ylabel(\"Loss\")\n",
    "ax[1].set_ylabel(\"Accuracy\")\n",
    "ax[0].legend()\n",
    "ax[1].legend()\n",
    "ax[0].grid(True)\n",
    "ax[1].grid(True)\n",
    "plt.show()"
   ]
  },
  {
   "cell_type": "markdown",
   "metadata": {},
   "source": [
    "## Region T"
   ]
  },
  {
   "cell_type": "code",
   "execution_count": 28,
   "metadata": {},
   "outputs": [
    {
     "name": "stdout",
     "output_type": "stream",
     "text": [
      "(636, 2, 410)\n",
      "CNN(\n",
      "  (layer0): BatchNorm1d(2, eps=1e-05, momentum=0.1, affine=True, track_running_stats=True)\n",
      "  (layer1): Sequential(\n",
      "    (0): BatchNorm1d(2, eps=1e-05, momentum=0.1, affine=True, track_running_stats=True)\n",
      "    (1): Conv1d(2, 16, kernel_size=(1,), stride=(1,))\n",
      "    (2): ReLU()\n",
      "  )\n",
      "  (layer2): Sequential(\n",
      "    (0): BatchNorm1d(16, eps=1e-05, momentum=0.1, affine=True, track_running_stats=True)\n",
      "    (1): Conv1d(16, 16, kernel_size=(20,), stride=(20,))\n",
      "    (2): ReLU()\n",
      "  )\n",
      "  (fc1): Sequential(\n",
      "    (0): Flatten(start_dim=1, end_dim=-1)\n",
      "    (1): Linear(in_features=320, out_features=128, bias=True)\n",
      "    (2): Tanh()\n",
      "    (3): Dropout(p=0.8, inplace=False)\n",
      "  )\n",
      "  (fc2): Sequential(\n",
      "    (0): Linear(in_features=128, out_features=128, bias=True)\n",
      "    (1): Tanh()\n",
      "    (2): Dropout(p=0.8, inplace=False)\n",
      "  )\n",
      "  (fc3): Sequential(\n",
      "    (0): Linear(in_features=128, out_features=1, bias=True)\n",
      "    (1): Sigmoid()\n",
      "  )\n",
      ")\n"
     ]
    }
   ],
   "source": [
    "input_shape = X_train_T.shape\n",
    "print(input_shape)\n",
    "model_T = CNN(num_classes=1, input_shape = input_shape).to(device)\n",
    "criterion = nn.BCELoss()\n",
    "optimizer = torch.optim.Adam(model_T.parameters(), lr=learning_rate)\n",
    "print(model_T)"
   ]
  },
  {
   "cell_type": "code",
   "execution_count": 29,
   "metadata": {},
   "outputs": [
    {
     "name": "stdout",
     "output_type": "stream",
     "text": [
      "Epoch: 01 | Epoch Time: 0m 0s\n",
      "\tTrain Loss: 0.566 | Train Acc: 77.52%\n",
      "\t Val. Loss: 0.575 |  Val. Acc: 83.46%\n",
      "Epoch: 02 | Epoch Time: 0m 0s\n",
      "\tTrain Loss: 0.499 | Train Acc: 83.02%\n",
      "\t Val. Loss: 0.462 |  Val. Acc: 83.46%\n",
      "Epoch: 03 | Epoch Time: 0m 0s\n",
      "\tTrain Loss: 0.479 | Train Acc: 83.02%\n",
      "\t Val. Loss: 0.458 |  Val. Acc: 83.46%\n",
      "Epoch: 04 | Epoch Time: 0m 0s\n",
      "\tTrain Loss: 0.474 | Train Acc: 82.55%\n",
      "\t Val. Loss: 0.465 |  Val. Acc: 83.46%\n",
      "Epoch: 05 | Epoch Time: 0m 0s\n",
      "\tTrain Loss: 0.469 | Train Acc: 82.70%\n",
      "\t Val. Loss: 0.474 |  Val. Acc: 83.46%\n",
      "Epoch: 06 | Epoch Time: 0m 0s\n",
      "\tTrain Loss: 0.469 | Train Acc: 82.70%\n",
      "\t Val. Loss: 0.450 |  Val. Acc: 83.46%\n",
      "Epoch: 07 | Epoch Time: 0m 0s\n",
      "\tTrain Loss: 0.476 | Train Acc: 83.33%\n",
      "\t Val. Loss: 0.487 |  Val. Acc: 83.46%\n",
      "Epoch: 08 | Epoch Time: 0m 0s\n",
      "\tTrain Loss: 0.465 | Train Acc: 82.55%\n",
      "\t Val. Loss: 0.498 |  Val. Acc: 83.46%\n",
      "Epoch: 09 | Epoch Time: 0m 0s\n",
      "\tTrain Loss: 0.438 | Train Acc: 83.02%\n",
      "\t Val. Loss: 0.459 |  Val. Acc: 83.46%\n",
      "Epoch: 10 | Epoch Time: 0m 0s\n",
      "\tTrain Loss: 0.435 | Train Acc: 83.02%\n",
      "\t Val. Loss: 0.459 |  Val. Acc: 83.46%\n",
      "Epoch: 11 | Epoch Time: 0m 0s\n",
      "\tTrain Loss: 0.418 | Train Acc: 83.02%\n",
      "\t Val. Loss: 0.466 |  Val. Acc: 83.03%\n",
      "Epoch: 12 | Epoch Time: 0m 0s\n",
      "\tTrain Loss: 0.427 | Train Acc: 83.18%\n",
      "\t Val. Loss: 0.486 |  Val. Acc: 83.03%\n"
     ]
    }
   ],
   "source": [
    "N_EPOCHS = 12\n",
    "\n",
    "best_valid_loss = float('inf')\n",
    "\n",
    "train_losses = []\n",
    "valid_losses = []\n",
    "\n",
    "train_accs = []\n",
    "valid_accs = []\n",
    "\n",
    "train_predicted_labels = []\n",
    "valid_predicted_labels = []\n",
    "\n",
    "train_true_labels = []\n",
    "valid_true_labels = []\n",
    "\n",
    "# for i, model in enumerate(models):\n",
    "#     print(f\"Training {type(model).__name__}\")\n",
    "    \n",
    "#     start_time = time.time()\n",
    "\n",
    "for epoch in range(N_EPOCHS):\n",
    "    start_time = time.time()\n",
    "\n",
    "    train_loss, train_acc, predicted_train = train(model_T, train_iterator_T, optimizer, criterion)\n",
    "    valid_loss, valid_acc, predicted_eval = evaluate(model_T, valid_iterator_T, criterion)\n",
    "\n",
    "    train_losses.append(train_loss); train_accs.append(train_acc); train_predicted_labels.append(predicted_train)\n",
    "    valid_losses.append(valid_loss); valid_accs.append(valid_acc); valid_predicted_labels.append(predicted_eval)\n",
    "\n",
    "    end_time = time.time()\n",
    "\n",
    "    epoch_mins, epoch_secs = epoch_time(start_time, end_time)\n",
    "\n",
    "    if (epoch+1) % 1 == 0:\n",
    "        print(f'Epoch: {epoch+1:02} | Epoch Time: {epoch_mins}m {epoch_secs}s')\n",
    "        print(f'\\tTrain Loss: {train_loss:.3f} | Train Acc: {train_acc:.2f}%')\n",
    "        print(f'\\t Val. Loss: {valid_loss:.3f} |  Val. Acc: {valid_acc:.2f}%')\n",
    "\n",
    "#         print(predicted_train)\n",
    "#         print(predicted_eval)\n",
    "\n",
    "    if valid_loss < best_valid_loss:\n",
    "        best_valid_loss = valid_loss\n"
   ]
  },
  {
   "cell_type": "code",
   "execution_count": null,
   "metadata": {},
   "outputs": [],
   "source": [
    "fig,ax = plt.subplots(2,1,sharex=True,figsize=(10,10))\n",
    "ax[0].plot(np.arange(N_EPOCHS),train_losses,label = \"train loss\")\n",
    "ax[0].plot(np.arange(N_EPOCHS),valid_losses, label = \"valid loss\")\n",
    "ax[1].plot(np.arange(N_EPOCHS),train_accs,label = \"train acc\")\n",
    "ax[1].plot(np.arange(N_EPOCHS),valid_accs,label = \"valid acc\")\n",
    "\n",
    "plt.subplots_adjust(hspace=0.03)\n",
    "ax[1].set_xlabel(\"Epochs\")\n",
    "ax[0].set_ylabel(\"Loss\")\n",
    "ax[1].set_ylabel(\"Accuracy\")\n",
    "ax[0].legend()\n",
    "ax[1].legend()\n",
    "ax[0].grid(True)\n",
    "ax[1].grid(True)\n",
    "plt.show()"
   ]
  },
  {
   "cell_type": "code",
   "execution_count": null,
   "metadata": {},
   "outputs": [],
   "source": []
  }
 ],
 "metadata": {
  "accelerator": "GPU",
  "colab": {
   "collapsed_sections": [],
   "name": "CNN.ipynb",
   "provenance": []
  },
  "kernelspec": {
   "display_name": "Python 3 (ipykernel)",
   "language": "python",
   "name": "python3"
  },
  "language_info": {
   "codemirror_mode": {
    "name": "ipython",
    "version": 3
   },
   "file_extension": ".py",
   "mimetype": "text/x-python",
   "name": "python",
   "nbconvert_exporter": "python",
   "pygments_lexer": "ipython3",
   "version": "3.9.7"
  }
 },
 "nbformat": 4,
 "nbformat_minor": 1
}
